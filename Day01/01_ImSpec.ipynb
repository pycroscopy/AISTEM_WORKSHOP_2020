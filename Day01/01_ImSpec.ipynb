{
  "nbformat": 4,
  "nbformat_minor": 0,
  "metadata": {
    "colab": {
      "name": "01_ImSpec.ipynb",
      "provenance": [],
      "collapsed_sections": [],
      "include_colab_link": true
    },
    "kernelspec": {
      "name": "python3",
      "display_name": "Python 3"
    },
    "accelerator": "GPU"
  },
  "cells": [
    {
      "cell_type": "markdown",
      "metadata": {
        "id": "view-in-github",
        "colab_type": "text"
      },
      "source": [
        "<a href=\"https://colab.research.google.com/github/ziatdinovmax/AISTEM_WORKSHOP_2020/blob/main/Day01/01_ImSpec.ipynb\" target=\"_parent\"><img src=\"https://colab.research.google.com/assets/colab-badge.svg\" alt=\"Open In Colab\"/></a>"
      ]
    },
    {
      "cell_type": "markdown",
      "metadata": {
        "id": "Ekny4V0iZeKu"
      },
      "source": [
        "# Im2Spec models for prediction property (spectrum) from structure (image)\n",
        "\n",
        "*  *Notebook prepared by Maxim Ziatdinov  (email: ziatdinovmax@gmail.com)*\n",
        "\n",
        "*  *The experimental SPM data was collected by Kyle Kelley and the experimental STEM EELS data was collected by Jordan Hachtel and Kevin Roccapriore*\n",
        "\n",
        "---\n",
        "\n",
        "This notebook demosntrates usage of encoder-decoder neural networks for convering images (structure) to spectra (property). In the *im2spec* approach, the sub-images representing a local structure are “compressed” via a convolutional neural network architecture to the small number of latent variables, and the latter are “deconvoluted” to yield the spectra. The architecture of the *im2spec* model is straightforward. It consists of two parts: an encoder for embedding input images into a latent vector and a decoder for generating one-dimensional signals from the embedded features. The encoder part consists of three back-to-back two-dimensional convolutional layers, whereas the decoder part represents a cascade of one-dimensional dilated convolutions with dilation rates of 1, 2, 3, and 4. The dilated convolutions showed superior performance compared to regular convolutional blocks in the decoder. Each convolutional layer in both encoder and decoder parts is formed by running 64 filters (“kernels”) of size 3 on its input and is activated by a leaky rectified linear unit with a negative slope of 0.1. The batch normalization is applied after each activation to avoid overfitting and improve generalization to new data. The “bottleneck” layer for representing the latent vector is a fully connected layer with the number of neurons equal to the specified number of latent dimensions. \n",
        "\n",
        "<img src=\"https://drive.google.com/uc?export=view&id=18cvXfDdpy1Ij-p1T-jALa_nBZ0iRsalW\" width=800 px><br><br>\n",
        "\n",
        "\n",
        "The assumption is of course that there is only a small variability of spectral behaviour within each (sub)-image. Here we are going to apply the *imspec* approach to two different datasets: i) SPM BEPS dataset obtained by Kyle Kelley, and ii) STEM EELS dataset obtained by Jordan Hachtel. For the details of training/test data preparation, see [this](https://arxiv.org/pdf/2006.01374.pdf) and [this](https://arxiv.org/pdf/2009.09005.pdf) papers.\n",
        "\n",
        "\n",
        "---\n",
        "\n",
        "\n",
        "\n",
        "\n"
      ]
    },
    {
      "cell_type": "markdown",
      "metadata": {
        "id": "eAV1Jun1k4xo"
      },
      "source": [
        "Install AtomAI:"
      ]
    },
    {
      "cell_type": "code",
      "metadata": {
        "colab": {
          "base_uri": "https://localhost:8080/"
        },
        "id": "RTTKRtL4rb7C",
        "outputId": "e8c23400-9cd4-41da-d9b8-2bb8efeca19f"
      },
      "source": [
        "!pip install atomai"
      ],
      "execution_count": 1,
      "outputs": [
        {
          "output_type": "stream",
          "text": [
            "Collecting atomai\n",
            "\u001b[?25l  Downloading https://files.pythonhosted.org/packages/ec/96/052c840e2bf8a28f3efca99853ce719ab40daad5163ea08df45330bacbfc/atomai-0.6.0-py3-none-any.whl (104kB)\n",
            "\r\u001b[K     |███▏                            | 10kB 18.9MB/s eta 0:00:01\r\u001b[K     |██████▎                         | 20kB 24.7MB/s eta 0:00:01\r\u001b[K     |█████████▌                      | 30kB 23.2MB/s eta 0:00:01\r\u001b[K     |████████████▋                   | 40kB 18.8MB/s eta 0:00:01\r\u001b[K     |███████████████▊                | 51kB 15.1MB/s eta 0:00:01\r\u001b[K     |███████████████████             | 61kB 16.9MB/s eta 0:00:01\r\u001b[K     |██████████████████████          | 71kB 13.8MB/s eta 0:00:01\r\u001b[K     |█████████████████████████▏      | 81kB 14.3MB/s eta 0:00:01\r\u001b[K     |████████████████████████████▍   | 92kB 14.4MB/s eta 0:00:01\r\u001b[K     |███████████████████████████████▌| 102kB 13.6MB/s eta 0:00:01\r\u001b[K     |████████████████████████████████| 112kB 13.6MB/s \n",
            "\u001b[?25hRequirement already satisfied: scipy>=1.3.0 in /usr/local/lib/python3.6/dist-packages (from atomai) (1.4.1)\n",
            "Requirement already satisfied: torch>=1.0.0 in /usr/local/lib/python3.6/dist-packages (from atomai) (1.7.0+cu101)\n",
            "Requirement already satisfied: scikit-image==0.16.2 in /usr/local/lib/python3.6/dist-packages (from atomai) (0.16.2)\n",
            "Requirement already satisfied: scikit-learn>=0.22.1 in /usr/local/lib/python3.6/dist-packages (from atomai) (0.22.2.post1)\n",
            "Requirement already satisfied: opencv-python>=4.1.0 in /usr/local/lib/python3.6/dist-packages (from atomai) (4.1.2.30)\n",
            "Requirement already satisfied: networkx>=2.5 in /usr/local/lib/python3.6/dist-packages (from atomai) (2.5)\n",
            "Collecting mendeleev>=0.6.0\n",
            "\u001b[?25l  Downloading https://files.pythonhosted.org/packages/f0/75/5863bb298aa1390cb9ecb0548a62b8213ef085273f9d3c73e513b9c36214/mendeleev-0.6.1.tar.gz (193kB)\n",
            "\u001b[K     |████████████████████████████████| 194kB 21.1MB/s \n",
            "\u001b[?25hRequirement already satisfied: numpy>=1.18.5 in /usr/local/lib/python3.6/dist-packages (from atomai) (1.18.5)\n",
            "Requirement already satisfied: future in /usr/local/lib/python3.6/dist-packages (from torch>=1.0.0->atomai) (0.16.0)\n",
            "Requirement already satisfied: typing-extensions in /usr/local/lib/python3.6/dist-packages (from torch>=1.0.0->atomai) (3.7.4.3)\n",
            "Requirement already satisfied: dataclasses in /usr/local/lib/python3.6/dist-packages (from torch>=1.0.0->atomai) (0.8)\n",
            "Requirement already satisfied: imageio>=2.3.0 in /usr/local/lib/python3.6/dist-packages (from scikit-image==0.16.2->atomai) (2.4.1)\n",
            "Requirement already satisfied: pillow>=4.3.0 in /usr/local/lib/python3.6/dist-packages (from scikit-image==0.16.2->atomai) (7.0.0)\n",
            "Requirement already satisfied: PyWavelets>=0.4.0 in /usr/local/lib/python3.6/dist-packages (from scikit-image==0.16.2->atomai) (1.1.1)\n",
            "Requirement already satisfied: matplotlib!=3.0.0,>=2.0.0 in /usr/local/lib/python3.6/dist-packages (from scikit-image==0.16.2->atomai) (3.2.2)\n",
            "Requirement already satisfied: joblib>=0.11 in /usr/local/lib/python3.6/dist-packages (from scikit-learn>=0.22.1->atomai) (0.17.0)\n",
            "Requirement already satisfied: decorator>=4.3.0 in /usr/local/lib/python3.6/dist-packages (from networkx>=2.5->atomai) (4.4.2)\n",
            "Requirement already satisfied: pandas in /usr/local/lib/python3.6/dist-packages (from mendeleev>=0.6.0->atomai) (1.1.4)\n",
            "Requirement already satisfied: sqlalchemy>=1.3.0 in /usr/local/lib/python3.6/dist-packages (from mendeleev>=0.6.0->atomai) (1.3.20)\n",
            "Collecting colorama\n",
            "  Downloading https://files.pythonhosted.org/packages/44/98/5b86278fbbf250d239ae0ecb724f8572af1c91f4a11edf4d36a206189440/colorama-0.4.4-py2.py3-none-any.whl\n",
            "Collecting pyfiglet\n",
            "\u001b[?25l  Downloading https://files.pythonhosted.org/packages/33/07/fcfdd7a2872f5b348953de35acce1544dab0c1e8368dca54279b1cde5c15/pyfiglet-0.8.post1-py2.py3-none-any.whl (865kB)\n",
            "\u001b[K     |████████████████████████████████| 870kB 25.4MB/s \n",
            "\u001b[?25hRequirement already satisfied: python-dateutil>=2.1 in /usr/local/lib/python3.6/dist-packages (from matplotlib!=3.0.0,>=2.0.0->scikit-image==0.16.2->atomai) (2.8.1)\n",
            "Requirement already satisfied: cycler>=0.10 in /usr/local/lib/python3.6/dist-packages (from matplotlib!=3.0.0,>=2.0.0->scikit-image==0.16.2->atomai) (0.10.0)\n",
            "Requirement already satisfied: pyparsing!=2.0.4,!=2.1.2,!=2.1.6,>=2.0.1 in /usr/local/lib/python3.6/dist-packages (from matplotlib!=3.0.0,>=2.0.0->scikit-image==0.16.2->atomai) (2.4.7)\n",
            "Requirement already satisfied: kiwisolver>=1.0.1 in /usr/local/lib/python3.6/dist-packages (from matplotlib!=3.0.0,>=2.0.0->scikit-image==0.16.2->atomai) (1.3.1)\n",
            "Requirement already satisfied: pytz>=2017.2 in /usr/local/lib/python3.6/dist-packages (from pandas->mendeleev>=0.6.0->atomai) (2018.9)\n",
            "Requirement already satisfied: six>=1.5 in /usr/local/lib/python3.6/dist-packages (from python-dateutil>=2.1->matplotlib!=3.0.0,>=2.0.0->scikit-image==0.16.2->atomai) (1.15.0)\n",
            "Building wheels for collected packages: mendeleev\n",
            "  Building wheel for mendeleev (setup.py) ... \u001b[?25l\u001b[?25hdone\n",
            "  Created wheel for mendeleev: filename=mendeleev-0.6.1-py2.py3-none-any.whl size=174964 sha256=01185dea61c7e9ab92b3b7e70866d7c9d74e776df5a4fc62f2a7bc5fc6de22a9\n",
            "  Stored in directory: /root/.cache/pip/wheels/fb/28/5d/95e69a718b35dd00169889b0139a692f6c265d399cab3aa097\n",
            "Successfully built mendeleev\n",
            "Installing collected packages: colorama, pyfiglet, mendeleev, atomai\n",
            "Successfully installed atomai-0.6.0 colorama-0.4.4 mendeleev-0.6.1 pyfiglet-0.8.post1\n"
          ],
          "name": "stdout"
        }
      ]
    },
    {
      "cell_type": "markdown",
      "metadata": {
        "id": "hLMdVgNctiZw"
      },
      "source": [
        "Imports:"
      ]
    },
    {
      "cell_type": "code",
      "metadata": {
        "id": "aMbJ68Wytb-1"
      },
      "source": [
        "import atomai as aoi\n",
        "import numpy as np\n",
        "import matplotlib.pyplot as plt"
      ],
      "execution_count": 2,
      "outputs": []
    },
    {
      "cell_type": "markdown",
      "metadata": {
        "id": "gBUTYEG0k5fJ"
      },
      "source": [
        "(Down)load training data:"
      ]
    },
    {
      "cell_type": "markdown",
      "metadata": {
        "id": "n-XcBsKoXixq"
      },
      "source": [
        ""
      ]
    },
    {
      "cell_type": "markdown",
      "metadata": {
        "id": "j1jk_lsQU7H6"
      },
      "source": [
        "## Application to SPM BEPS data"
      ]
    },
    {
      "cell_type": "markdown",
      "metadata": {
        "id": "IfQrBpnDU1Em"
      },
      "source": [
        "(Down)load training data:"
      ]
    },
    {
      "cell_type": "code",
      "metadata": {
        "colab": {
          "base_uri": "https://localhost:8080/"
        },
        "id": "LYchGqCQvz-m",
        "outputId": "51116ee6-25a9-4712-85ca-c9d41c4e0738"
      },
      "source": [
        "!wget -O \"imspec_data.npz\" https://www.dropbox.com/s/os0weihai4l1kf8/im2spec.zip?dl=1\n",
        "\n",
        "dataset = np.load('imspec_data.npz')\n",
        "imgs = dataset['im2spec_images']\n",
        "spectra = dataset['im2spec_spectra']\n",
        "specval = dataset['im2spec_specval']"
      ],
      "execution_count": 3,
      "outputs": [
        {
          "output_type": "stream",
          "text": [
            "--2020-12-08 05:38:51--  https://www.dropbox.com/s/os0weihai4l1kf8/im2spec.zip?dl=1\n",
            "Resolving www.dropbox.com (www.dropbox.com)... 162.125.65.1, 2620:100:6021:1::a27d:4101\n",
            "Connecting to www.dropbox.com (www.dropbox.com)|162.125.65.1|:443... connected.\n",
            "HTTP request sent, awaiting response... 301 Moved Permanently\n",
            "Location: /s/dl/os0weihai4l1kf8/im2spec.zip [following]\n",
            "--2020-12-08 05:38:51--  https://www.dropbox.com/s/dl/os0weihai4l1kf8/im2spec.zip\n",
            "Reusing existing connection to www.dropbox.com:443.\n",
            "HTTP request sent, awaiting response... 302 Found\n",
            "Location: https://uc9bbed5000557359c831bfbfe31.dl.dropboxusercontent.com/cd/0/get/BEp3HWEgsR2sjHa9hp5XfIP0AgUKch_HrBixfnsenbxQrcdWbSB4GtV8ApJhrHbdhcbpEIH81N0aS-4Pk8gtYAEyO7a3mQWz7MtFo4F8z0FUsrKu-mY3vMugjSIQsGqrsaU/file?dl=1# [following]\n",
            "--2020-12-08 05:38:52--  https://uc9bbed5000557359c831bfbfe31.dl.dropboxusercontent.com/cd/0/get/BEp3HWEgsR2sjHa9hp5XfIP0AgUKch_HrBixfnsenbxQrcdWbSB4GtV8ApJhrHbdhcbpEIH81N0aS-4Pk8gtYAEyO7a3mQWz7MtFo4F8z0FUsrKu-mY3vMugjSIQsGqrsaU/file?dl=1\n",
            "Resolving uc9bbed5000557359c831bfbfe31.dl.dropboxusercontent.com (uc9bbed5000557359c831bfbfe31.dl.dropboxusercontent.com)... 162.125.65.15, 2620:100:6021:15::a27d:410f\n",
            "Connecting to uc9bbed5000557359c831bfbfe31.dl.dropboxusercontent.com (uc9bbed5000557359c831bfbfe31.dl.dropboxusercontent.com)|162.125.65.15|:443... connected.\n",
            "HTTP request sent, awaiting response... 200 OK\n",
            "Length: 467788 (457K) [application/binary]\n",
            "Saving to: ‘imspec_data.npz’\n",
            "\n",
            "imspec_data.npz     100%[===================>] 456.82K   875KB/s    in 0.5s    \n",
            "\n",
            "2020-12-08 05:38:53 (875 KB/s) - ‘imspec_data.npz’ saved [467788/467788]\n",
            "\n"
          ],
          "name": "stdout"
        }
      ]
    },
    {
      "cell_type": "markdown",
      "metadata": {
        "id": "jUeeqy58VCEo"
      },
      "source": [
        "Visualize individual image spectra pairs:"
      ]
    },
    {
      "cell_type": "code",
      "metadata": {
        "colab": {
          "base_uri": "https://localhost:8080/",
          "height": 283
        },
        "id": "SmcZaGOzVFa_",
        "outputId": "e2ee4aec-616e-4f26-b00b-ddb31d40d5ce"
      },
      "source": [
        "k = 12\n",
        "_, (ax1, ax2) = plt.subplots(1, 2, figsize=(9, 4))\n",
        "ax1.imshow(imgs[k], cmap='gray')\n",
        "ax2.plot(specval[0, :64], spectra[k])"
      ],
      "execution_count": 4,
      "outputs": [
        {
          "output_type": "execute_result",
          "data": {
            "text/plain": [
              "[<matplotlib.lines.Line2D at 0x7ff3ca65e518>]"
            ]
          },
          "metadata": {
            "tags": []
          },
          "execution_count": 4
        },
        {
          "output_type": "display_data",
          "data": {
            "image/png": "[encoded data removed]",
            "text/plain": [
              "<Figure size 648x288 with 2 Axes>"
            ]
          },
          "metadata": {
            "tags": [],
            "needs_background": "light"
          }
        }
      ]
    },
    {
      "cell_type": "markdown",
      "metadata": {
        "id": "Xdx-kP9E60SH"
      },
      "source": [
        "Train-test split:"
      ]
    },
    {
      "cell_type": "code",
      "metadata": {
        "id": "ejgyv6Fd3EEo"
      },
      "source": [
        "imgs_train, spectra_train, imgs_test, spectra_test = aoi.utils.data_split(imgs, spectra, format_out=\"torch_float\")"
      ],
      "execution_count": 5,
      "outputs": []
    },
    {
      "cell_type": "markdown",
      "metadata": {
        "id": "-HzP6F7xWcaC"
      },
      "source": [
        "Initialize and train ImSpec model:"
      ]
    },
    {
      "cell_type": "code",
      "metadata": {
        "colab": {
          "base_uri": "https://localhost:8080/",
          "height": 1000
        },
        "id": "vO_RmdtD3MCq",
        "outputId": "64e819f2-a396-479c-aa29-c72564729c45"
      },
      "source": [
        "in_dim = (16, 16)\n",
        "out_dim = (64,)\n",
        "\n",
        "model = aoi.models.ImSpec(in_dim, out_dim, latent_dim=10, seed=2)\n",
        "\n",
        "model.fit(imgs_train, spectra_train, imgs_test, spectra_test,  # training data\n",
        "          full_epoch=True, training_cycles=120, swa=True, batch_norm=True)  # training parameters"
      ],
      "execution_count": 6,
      "outputs": [
        {
          "output_type": "stream",
          "text": [
            "/usr/local/lib/python3.6/dist-packages/atomai/utils/preproc.py:89: UserWarning: Adding a channel dimension of 1 to training images\n",
            "  UserWarning)\n",
            "/usr/local/lib/python3.6/dist-packages/atomai/utils/preproc.py:94: UserWarning: Adding a channel dimension of 1 to test images\n",
            "  UserWarning)\n",
            "/usr/local/lib/python3.6/dist-packages/atomai/utils/preproc.py:99: UserWarning: Adding a channel dimension of 1 to training spectra\n",
            "  UserWarning)\n",
            "/usr/local/lib/python3.6/dist-packages/atomai/utils/preproc.py:104: UserWarning: Adding a channel dimension of 1 to test spectra\n",
            "  UserWarning)\n"
          ],
          "name": "stderr"
        },
        {
          "output_type": "stream",
          "text": [
            "Epoch 1/120 ... Training loss: 26.0838 ... Test loss: 26.0949 ... GPU memory usage: 1317/16130\n",
            "Epoch 2/120 ... Training loss: 24.926 ... Test loss: 24.4761 ... GPU memory usage: 1317/16130\n",
            "Epoch 3/120 ... Training loss: 24.41 ... Test loss: 24.4638 ... GPU memory usage: 1317/16130\n",
            "Epoch 4/120 ... Training loss: 24.0909 ... Test loss: 24.276 ... GPU memory usage: 1317/16130\n",
            "Epoch 5/120 ... Training loss: 23.592 ... Test loss: 24.0892 ... GPU memory usage: 1317/16130\n",
            "Epoch 6/120 ... Training loss: 23.1418 ... Test loss: 23.0869 ... GPU memory usage: 1317/16130\n",
            "Epoch 7/120 ... Training loss: 22.6774 ... Test loss: 22.8582 ... GPU memory usage: 1317/16130\n",
            "Epoch 8/120 ... Training loss: 22.353 ... Test loss: 22.0213 ... GPU memory usage: 1317/16130\n",
            "Epoch 9/120 ... Training loss: 21.8289 ... Test loss: 21.9814 ... GPU memory usage: 1317/16130\n",
            "Epoch 10/120 ... Training loss: 21.4346 ... Test loss: 21.1535 ... GPU memory usage: 1317/16130\n",
            "Epoch 11/120 ... Training loss: 21.0785 ... Test loss: 21.1241 ... GPU memory usage: 1317/16130\n",
            "Epoch 12/120 ... Training loss: 20.5762 ... Test loss: 20.7671 ... GPU memory usage: 1317/16130\n",
            "Epoch 13/120 ... Training loss: 20.2415 ... Test loss: 19.1133 ... GPU memory usage: 1317/16130\n",
            "Epoch 14/120 ... Training loss: 19.8894 ... Test loss: 19.5454 ... GPU memory usage: 1317/16130\n",
            "Epoch 15/120 ... Training loss: 19.3679 ... Test loss: 19.4563 ... GPU memory usage: 1317/16130\n",
            "Epoch 16/120 ... Training loss: 18.9148 ... Test loss: 18.9514 ... GPU memory usage: 1317/16130\n",
            "Epoch 17/120 ... Training loss: 18.3921 ... Test loss: 17.9841 ... GPU memory usage: 1317/16130\n",
            "Epoch 18/120 ... Training loss: 18.0626 ... Test loss: 17.3892 ... GPU memory usage: 1317/16130\n",
            "Epoch 19/120 ... Training loss: 17.665 ... Test loss: 17.2513 ... GPU memory usage: 1317/16130\n",
            "Epoch 20/120 ... Training loss: 17.2924 ... Test loss: 16.893 ... GPU memory usage: 1317/16130\n",
            "Epoch 21/120 ... Training loss: 16.8085 ... Test loss: 17.0061 ... GPU memory usage: 1317/16130\n",
            "Epoch 22/120 ... Training loss: 16.3356 ... Test loss: 15.8511 ... GPU memory usage: 1317/16130\n",
            "Epoch 23/120 ... Training loss: 16.0916 ... Test loss: 16.0314 ... GPU memory usage: 1317/16130\n",
            "Epoch 24/120 ... Training loss: 15.6098 ... Test loss: 15.495 ... GPU memory usage: 1317/16130\n",
            "Epoch 25/120 ... Training loss: 15.1617 ... Test loss: 15.4798 ... GPU memory usage: 1317/16130\n",
            "Epoch 26/120 ... Training loss: 14.7777 ... Test loss: 14.8035 ... GPU memory usage: 1317/16130\n",
            "Epoch 27/120 ... Training loss: 14.3532 ... Test loss: 14.4196 ... GPU memory usage: 1317/16130\n",
            "Epoch 28/120 ... Training loss: 13.9191 ... Test loss: 14.161 ... GPU memory usage: 1317/16130\n",
            "Epoch 29/120 ... Training loss: 13.5864 ... Test loss: 13.5608 ... GPU memory usage: 1317/16130\n",
            "Epoch 30/120 ... Training loss: 13.1336 ... Test loss: 12.9997 ... GPU memory usage: 1317/16130\n",
            "Epoch 31/120 ... Training loss: 12.7203 ... Test loss: 12.5312 ... GPU memory usage: 1317/16130\n",
            "Epoch 32/120 ... Training loss: 12.3272 ... Test loss: 12.2301 ... GPU memory usage: 1317/16130\n",
            "Epoch 33/120 ... Training loss: 11.9325 ... Test loss: 11.4839 ... GPU memory usage: 1317/16130\n",
            "Epoch 34/120 ... Training loss: 11.5688 ... Test loss: 11.4836 ... GPU memory usage: 1317/16130\n",
            "Epoch 35/120 ... Training loss: 11.1183 ... Test loss: 11.0209 ... GPU memory usage: 1317/16130\n",
            "Epoch 36/120 ... Training loss: 10.9052 ... Test loss: 10.9323 ... GPU memory usage: 1317/16130\n",
            "Epoch 37/120 ... Training loss: 10.4545 ... Test loss: 10.9806 ... GPU memory usage: 1317/16130\n",
            "Epoch 38/120 ... Training loss: 10.092 ... Test loss: 10.4367 ... GPU memory usage: 1317/16130\n",
            "Epoch 39/120 ... Training loss: 9.7389 ... Test loss: 9.9659 ... GPU memory usage: 1317/16130\n",
            "Epoch 40/120 ... Training loss: 9.4102 ... Test loss: 10.117 ... GPU memory usage: 1317/16130\n",
            "Epoch 41/120 ... Training loss: 9.0787 ... Test loss: 9.8014 ... GPU memory usage: 1317/16130\n",
            "Epoch 42/120 ... Training loss: 8.7022 ... Test loss: 8.4204 ... GPU memory usage: 1317/16130\n",
            "Epoch 43/120 ... Training loss: 8.3535 ... Test loss: 8.183 ... GPU memory usage: 1317/16130\n",
            "Epoch 44/120 ... Training loss: 7.9524 ... Test loss: 8.4062 ... GPU memory usage: 1317/16130\n",
            "Epoch 45/120 ... Training loss: 7.7524 ... Test loss: 7.5698 ... GPU memory usage: 1317/16130\n",
            "Epoch 46/120 ... Training loss: 7.4561 ... Test loss: 7.5227 ... GPU memory usage: 1317/16130\n",
            "Epoch 47/120 ... Training loss: 7.1377 ... Test loss: 7.1887 ... GPU memory usage: 1317/16130\n",
            "Epoch 48/120 ... Training loss: 6.842 ... Test loss: 6.5323 ... GPU memory usage: 1317/16130\n",
            "Epoch 49/120 ... Training loss: 6.5277 ... Test loss: 6.5925 ... GPU memory usage: 1317/16130\n",
            "Epoch 50/120 ... Training loss: 6.2616 ... Test loss: 6.4643 ... GPU memory usage: 1317/16130\n",
            "Epoch 51/120 ... Training loss: 5.9933 ... Test loss: 6.4747 ... GPU memory usage: 1317/16130\n",
            "Epoch 52/120 ... Training loss: 5.6923 ... Test loss: 5.6895 ... GPU memory usage: 1317/16130\n",
            "Epoch 53/120 ... Training loss: 5.4843 ... Test loss: 5.8886 ... GPU memory usage: 1317/16130\n",
            "Epoch 54/120 ... Training loss: 5.1978 ... Test loss: 5.5649 ... GPU memory usage: 1317/16130\n",
            "Epoch 55/120 ... Training loss: 5.0104 ... Test loss: 5.6963 ... GPU memory usage: 1317/16130\n",
            "Epoch 56/120 ... Training loss: 4.7159 ... Test loss: 4.9187 ... GPU memory usage: 1317/16130\n",
            "Epoch 57/120 ... Training loss: 4.5459 ... Test loss: 4.9794 ... GPU memory usage: 1317/16130\n",
            "Epoch 58/120 ... Training loss: 4.2932 ... Test loss: 4.6623 ... GPU memory usage: 1317/16130\n",
            "Epoch 59/120 ... Training loss: 4.1438 ... Test loss: 4.5984 ... GPU memory usage: 1317/16130\n",
            "Epoch 60/120 ... Training loss: 3.856 ... Test loss: 4.1451 ... GPU memory usage: 1317/16130\n",
            "Epoch 61/120 ... Training loss: 3.6634 ... Test loss: 4.0732 ... GPU memory usage: 1317/16130\n",
            "Epoch 62/120 ... Training loss: 3.475 ... Test loss: 3.7087 ... GPU memory usage: 1317/16130\n",
            "Epoch 63/120 ... Training loss: 3.3514 ... Test loss: 3.517 ... GPU memory usage: 1317/16130\n",
            "Epoch 64/120 ... Training loss: 3.1655 ... Test loss: 3.3149 ... GPU memory usage: 1317/16130\n",
            "Epoch 65/120 ... Training loss: 3.0463 ... Test loss: 3.261 ... GPU memory usage: 1317/16130\n",
            "Epoch 66/120 ... Training loss: 2.8348 ... Test loss: 3.2778 ... GPU memory usage: 1317/16130\n",
            "Epoch 67/120 ... Training loss: 2.6697 ... Test loss: 2.6814 ... GPU memory usage: 1317/16130\n",
            "Epoch 68/120 ... Training loss: 2.5024 ... Test loss: 3.2075 ... GPU memory usage: 1317/16130\n",
            "Epoch 69/120 ... Training loss: 2.3794 ... Test loss: 2.7518 ... GPU memory usage: 1317/16130\n",
            "Epoch 70/120 ... Training loss: 2.2336 ... Test loss: 2.6113 ... GPU memory usage: 1317/16130\n",
            "Epoch 71/120 ... Training loss: 2.1548 ... Test loss: 2.0425 ... GPU memory usage: 1317/16130\n",
            "Epoch 72/120 ... Training loss: 2.0279 ... Test loss: 2.3797 ... GPU memory usage: 1317/16130\n",
            "Epoch 73/120 ... Training loss: 1.9111 ... Test loss: 2.2975 ... GPU memory usage: 1317/16130\n",
            "Epoch 74/120 ... Training loss: 1.7613 ... Test loss: 2.3363 ... GPU memory usage: 1317/16130\n",
            "Epoch 75/120 ... Training loss: 1.7041 ... Test loss: 2.3553 ... GPU memory usage: 1317/16130\n",
            "Epoch 76/120 ... Training loss: 1.5418 ... Test loss: 1.9197 ... GPU memory usage: 1317/16130\n",
            "Epoch 77/120 ... Training loss: 1.5396 ... Test loss: 1.6472 ... GPU memory usage: 1317/16130\n",
            "Epoch 78/120 ... Training loss: 1.4239 ... Test loss: 1.8904 ... GPU memory usage: 1317/16130\n",
            "Epoch 79/120 ... Training loss: 1.3112 ... Test loss: 1.9236 ... GPU memory usage: 1317/16130\n",
            "Epoch 80/120 ... Training loss: 1.3256 ... Test loss: 1.6676 ... GPU memory usage: 1317/16130\n",
            "Epoch 81/120 ... Training loss: 1.1666 ... Test loss: 1.7537 ... GPU memory usage: 1317/16130\n",
            "Epoch 82/120 ... Training loss: 1.1266 ... Test loss: 1.6047 ... GPU memory usage: 1317/16130\n",
            "Epoch 83/120 ... Training loss: 1.0737 ... Test loss: 1.4501 ... GPU memory usage: 1317/16130\n",
            "Epoch 84/120 ... Training loss: 1.0164 ... Test loss: 1.6271 ... GPU memory usage: 1317/16130\n",
            "Epoch 85/120 ... Training loss: 0.9387 ... Test loss: 1.5023 ... GPU memory usage: 1317/16130\n",
            "Epoch 86/120 ... Training loss: 0.9047 ... Test loss: 1.6579 ... GPU memory usage: 1317/16130\n",
            "Epoch 87/120 ... Training loss: 0.8165 ... Test loss: 1.3752 ... GPU memory usage: 1317/16130\n",
            "Epoch 88/120 ... Training loss: 0.7539 ... Test loss: 1.3209 ... GPU memory usage: 1317/16130\n",
            "Epoch 89/120 ... Training loss: 0.7017 ... Test loss: 1.1313 ... GPU memory usage: 1317/16130\n",
            "Epoch 90/120 ... Training loss: 0.6657 ... Test loss: 1.1806 ... GPU memory usage: 1317/16130\n",
            "Epoch 91/120 ... Training loss: 0.6498 ... Test loss: 1.1338 ... GPU memory usage: 1317/16130\n",
            "Epoch 92/120 ... Training loss: 0.6193 ... Test loss: 1.211 ... GPU memory usage: 1317/16130\n",
            "Epoch 93/120 ... Training loss: 0.5837 ... Test loss: 1.2454 ... GPU memory usage: 1317/16130\n",
            "Epoch 94/120 ... Training loss: 0.5462 ... Test loss: 1.2767 ... GPU memory usage: 1317/16130\n",
            "Epoch 95/120 ... Training loss: 0.5304 ... Test loss: 1.1915 ... GPU memory usage: 1317/16130\n",
            "Epoch 96/120 ... Training loss: 0.477 ... Test loss: 1.0178 ... GPU memory usage: 1317/16130\n",
            "Epoch 97/120 ... Training loss: 0.4567 ... Test loss: 1.0545 ... GPU memory usage: 1317/16130\n",
            "Epoch 98/120 ... Training loss: 0.4464 ... Test loss: 1.0047 ... GPU memory usage: 1317/16130\n",
            "Epoch 99/120 ... Training loss: 0.4258 ... Test loss: 1.0293 ... GPU memory usage: 1317/16130\n",
            "Epoch 100/120 ... Training loss: 0.3981 ... Test loss: 0.9908 ... GPU memory usage: 1317/16130\n",
            "Epoch 101/120 ... Training loss: 0.3757 ... Test loss: 1.0 ... GPU memory usage: 1317/16130\n",
            "Epoch 102/120 ... Training loss: 0.3605 ... Test loss: 0.974 ... GPU memory usage: 1317/16130\n",
            "Epoch 103/120 ... Training loss: 0.3425 ... Test loss: 0.986 ... GPU memory usage: 1317/16130\n",
            "Epoch 104/120 ... Training loss: 0.3227 ... Test loss: 0.9411 ... GPU memory usage: 1317/16130\n",
            "Epoch 105/120 ... Training loss: 0.3155 ... Test loss: 0.9844 ... GPU memory usage: 1317/16130\n",
            "Epoch 106/120 ... Training loss: 0.2878 ... Test loss: 0.8509 ... GPU memory usage: 1317/16130\n",
            "Epoch 107/120 ... Training loss: 0.2862 ... Test loss: 0.9937 ... GPU memory usage: 1317/16130\n",
            "Epoch 108/120 ... Training loss: 0.3229 ... Test loss: 0.9031 ... GPU memory usage: 1317/16130\n",
            "Epoch 109/120 ... Training loss: 0.3029 ... Test loss: 0.8507 ... GPU memory usage: 1317/16130\n",
            "Epoch 110/120 ... Training loss: 0.2813 ... Test loss: 0.9248 ... GPU memory usage: 1317/16130\n",
            "Epoch 111/120 ... Training loss: 0.2447 ... Test loss: 0.8707 ... GPU memory usage: 1317/16130\n",
            "Epoch 112/120 ... Training loss: 0.2201 ... Test loss: 0.935 ... GPU memory usage: 1317/16130\n",
            "Epoch 113/120 ... Training loss: 0.2306 ... Test loss: 1.001 ... GPU memory usage: 1317/16130\n",
            "Epoch 114/120 ... Training loss: 0.265 ... Test loss: 0.9871 ... GPU memory usage: 1317/16130\n",
            "Epoch 115/120 ... Training loss: 0.227 ... Test loss: 0.8981 ... GPU memory usage: 1317/16130\n",
            "Epoch 116/120 ... Training loss: 0.2198 ... Test loss: 0.8346 ... GPU memory usage: 1317/16130\n",
            "Epoch 117/120 ... Training loss: 0.1877 ... Test loss: 0.8658 ... GPU memory usage: 1317/16130\n",
            "Epoch 118/120 ... Training loss: 0.1946 ... Test loss: 0.9144 ... GPU memory usage: 1317/16130\n",
            "Epoch 119/120 ... Training loss: 0.1667 ... Test loss: 0.8808 ... GPU memory usage: 1317/16130\n",
            "Epoch 120/120 ... Training loss: 0.1726 ... Test loss: 0.9532 ... GPU memory usage: 1317/16130\n",
            "Performing stochastic weights averaging...\n",
            "Model (final state) evaluation loss: 0.8222\n",
            "Plotting training history\n"
          ],
          "name": "stdout"
        },
        {
          "output_type": "display_data",
          "data": {
            "image/png": "[encoded data removed]",
            "text/plain": [
              "<Figure size 432x432 with 1 Axes>"
            ]
          },
          "metadata": {
            "tags": [],
            "needs_background": "light"
          }
        }
      ]
    },
    {
      "cell_type": "markdown",
      "metadata": {
        "id": "PyGLIjMn-5j4"
      },
      "source": [
        "Make a prediction with the trained model:"
      ]
    },
    {
      "cell_type": "code",
      "metadata": {
        "colab": {
          "base_uri": "https://localhost:8080/"
        },
        "id": "mBGZBXnz3Qbw",
        "outputId": "089ed539-c16c-4193-96fe-dd536835c5e4"
      },
      "source": [
        "prediction = model.predict(imgs_test, norm=False)"
      ],
      "execution_count": 7,
      "outputs": [
        {
          "output_type": "stream",
          "text": [
            "Batch 10/10\n",
            "174 images were decoded in approximately 0.8948 seconds\n"
          ],
          "name": "stdout"
        }
      ]
    },
    {
      "cell_type": "markdown",
      "metadata": {
        "id": "b_yeyL-5-76U"
      },
      "source": [
        "Visualize predicted spectra for selected test images:\n",
        "\n",
        "(note that predictions get improved as if we train longer)"
      ]
    },
    {
      "cell_type": "code",
      "metadata": {
        "colab": {
          "base_uri": "https://localhost:8080/",
          "height": 283
        },
        "id": "lsrOTx-O4H6X",
        "outputId": "6e9a8087-1929-4981-88a5-01dc76a5a92d"
      },
      "source": [
        "k = 150\n",
        "\n",
        "_, (ax1, ax2) = plt.subplots(1, 2, figsize=(10, 4))\n",
        "ax1.imshow(imgs_test[k], cmap='gray', label=\"Input image\")\n",
        "ax2.plot(specval[0,:64], spectra_test[k], label=\"Ground truth\")\n",
        "ax2.plot(specval[0,:64], prediction[k], label=\"Prediction\")\n",
        "plt.legend()"
      ],
      "execution_count": 8,
      "outputs": [
        {
          "output_type": "execute_result",
          "data": {
            "text/plain": [
              "<matplotlib.legend.Legend at 0x7ff3c1489278>"
            ]
          },
          "metadata": {
            "tags": []
          },
          "execution_count": 8
        },
        {
          "output_type": "display_data",
          "data": {
            "image/png": "[encoded data removed]",
            "text/plain": [
              "<Figure size 720x288 with 2 Axes>"
            ]
          },
          "metadata": {
            "tags": [],
            "needs_background": "light"
          }
        }
      ]
    },
    {
      "cell_type": "markdown",
      "metadata": {
        "id": "8qdxW4ufWpa8"
      },
      "source": [
        "## Application to STEM EELS data"
      ]
    },
    {
      "cell_type": "markdown",
      "metadata": {
        "id": "yRubayNbWwnr"
      },
      "source": [
        "(Down)load data:"
      ]
    },
    {
      "cell_type": "code",
      "metadata": {
        "id": "w1Afe3wt8mM1",
        "colab": {
          "base_uri": "https://localhost:8080/"
        },
        "outputId": "4b7d8f79-9d98-4ace-f824-b2795982bc70"
      },
      "source": [
        "!wget -O 'eels_imspec.npz' https://www.dropbox.com/s/n3gmmpr50igelyc/eels_imspec.npz?dl=1"
      ],
      "execution_count": 9,
      "outputs": [
        {
          "output_type": "stream",
          "text": [
            "--2020-12-08 05:49:05--  https://www.dropbox.com/s/n3gmmpr50igelyc/eels_imspec.npz?dl=1\n",
            "Resolving www.dropbox.com (www.dropbox.com)... 162.125.65.1, 2620:100:6021:1::a27d:4101\n",
            "Connecting to www.dropbox.com (www.dropbox.com)|162.125.65.1|:443... connected.\n",
            "HTTP request sent, awaiting response... 301 Moved Permanently\n",
            "Location: /s/dl/n3gmmpr50igelyc/eels_imspec.npz [following]\n",
            "--2020-12-08 05:49:05--  https://www.dropbox.com/s/dl/n3gmmpr50igelyc/eels_imspec.npz\n",
            "Reusing existing connection to www.dropbox.com:443.\n",
            "HTTP request sent, awaiting response... 302 Found\n",
            "Location: https://uc471381d40a30016540b3f03f58.dl.dropboxusercontent.com/cd/0/get/BErfONEC-MoEFHyKSBgBXBPfp7tpBRHSYJgubIXCqR4C6QgQGi06UPCRXkyVzEJNEwwBZpiSJ3vVuqpAAusZuN5yOdnU86qp3vJiUSp-tOsfzv_JlACzdGjIJxaPIcoN9jk/file?dl=1# [following]\n",
            "--2020-12-08 05:49:06--  https://uc471381d40a30016540b3f03f58.dl.dropboxusercontent.com/cd/0/get/BErfONEC-MoEFHyKSBgBXBPfp7tpBRHSYJgubIXCqR4C6QgQGi06UPCRXkyVzEJNEwwBZpiSJ3vVuqpAAusZuN5yOdnU86qp3vJiUSp-tOsfzv_JlACzdGjIJxaPIcoN9jk/file?dl=1\n",
            "Resolving uc471381d40a30016540b3f03f58.dl.dropboxusercontent.com (uc471381d40a30016540b3f03f58.dl.dropboxusercontent.com)... 162.125.65.15, 2620:100:6021:15::a27d:410f\n",
            "Connecting to uc471381d40a30016540b3f03f58.dl.dropboxusercontent.com (uc471381d40a30016540b3f03f58.dl.dropboxusercontent.com)|162.125.65.15|:443... connected.\n",
            "HTTP request sent, awaiting response... 200 OK\n",
            "Length: 50041586 (48M) [application/binary]\n",
            "Saving to: ‘eels_imspec.npz’\n",
            "\n",
            "eels_imspec.npz     100%[===================>]  47.72M  21.5MB/s    in 2.2s    \n",
            "\n",
            "2020-12-08 05:49:09 (21.5 MB/s) - ‘eels_imspec.npz’ saved [50041586/50041586]\n",
            "\n"
          ],
          "name": "stdout"
        }
      ]
    },
    {
      "cell_type": "code",
      "metadata": {
        "id": "gE_KLCsRMCjz"
      },
      "source": [
        "dataset = np.load('eels_imspec.npz')\n",
        "imgs = dataset['imgs']\n",
        "spectra = dataset['spectra']\n",
        "specval = dataset['specval']"
      ],
      "execution_count": 10,
      "outputs": []
    },
    {
      "cell_type": "code",
      "metadata": {
        "colab": {
          "base_uri": "https://localhost:8080/",
          "height": 283
        },
        "id": "d22y33eAW1eP",
        "outputId": "9fd60879-d3d2-43ae-e449-2a2c483e280e"
      },
      "source": [
        "k = 12\n",
        "_, (ax1, ax2) = plt.subplots(1, 2, figsize=(9, 4))\n",
        "ax1.imshow(imgs[k], cmap='gray')\n",
        "ax2.plot(specval, spectra[k])"
      ],
      "execution_count": 11,
      "outputs": [
        {
          "output_type": "execute_result",
          "data": {
            "text/plain": [
              "[<matplotlib.lines.Line2D at 0x7ff3c1490320>]"
            ]
          },
          "metadata": {
            "tags": []
          },
          "execution_count": 11
        },
        {
          "output_type": "display_data",
          "data": {
            "image/png": "[encoded data removed]",
            "text/plain": [
              "<Figure size 648x288 with 2 Axes>"
            ]
          },
          "metadata": {
            "tags": [],
            "needs_background": "light"
          }
        }
      ]
    },
    {
      "cell_type": "markdown",
      "metadata": {
        "id": "M5Yxzx9iW2rR"
      },
      "source": [
        "Train-test split:"
      ]
    },
    {
      "cell_type": "code",
      "metadata": {
        "id": "6it4KwtaMKGF"
      },
      "source": [
        "imgs_train, spectra_train, imgs_test, spectra_test = aoi.utils.data_split(imgs, spectra, format_out=\"torch_float\")"
      ],
      "execution_count": 12,
      "outputs": []
    },
    {
      "cell_type": "markdown",
      "metadata": {
        "id": "3KML-hO-W4aj"
      },
      "source": [
        "Initialize and train ImSpec model (same parameters as above):"
      ]
    },
    {
      "cell_type": "code",
      "metadata": {
        "colab": {
          "base_uri": "https://localhost:8080/",
          "height": 1000
        },
        "id": "mXS9NFX5MKGF",
        "outputId": "b0fb1f1a-c42c-4759-ae52-bdd8cc54b6e1"
      },
      "source": [
        "in_dim = (16, 16)\n",
        "out_dim = (2048,)\n",
        "\n",
        "model = aoi.models.ImSpec(in_dim, out_dim, latent_dim=10, seed=2)\n",
        "\n",
        "model.fit(imgs_train, spectra_train, imgs_test, spectra_test,  # training data\n",
        "          full_epoch=True, training_cycles=120, swa=True, batch_norm=True)  # training parameters"
      ],
      "execution_count": 13,
      "outputs": [
        {
          "output_type": "stream",
          "text": [
            "/usr/local/lib/python3.6/dist-packages/atomai/utils/preproc.py:89: UserWarning: Adding a channel dimension of 1 to training images\n",
            "  UserWarning)\n",
            "/usr/local/lib/python3.6/dist-packages/atomai/utils/preproc.py:94: UserWarning: Adding a channel dimension of 1 to test images\n",
            "  UserWarning)\n",
            "/usr/local/lib/python3.6/dist-packages/atomai/utils/preproc.py:99: UserWarning: Adding a channel dimension of 1 to training spectra\n",
            "  UserWarning)\n",
            "/usr/local/lib/python3.6/dist-packages/atomai/utils/preproc.py:104: UserWarning: Adding a channel dimension of 1 to test spectra\n",
            "  UserWarning)\n"
          ],
          "name": "stderr"
        },
        {
          "output_type": "stream",
          "text": [
            "Epoch 1/120 ... Training loss: 1.383 ... Test loss: 3.536 ... GPU memory usage: 2199/16130\n",
            "Epoch 2/120 ... Training loss: 1.1435 ... Test loss: 0.9929 ... GPU memory usage: 2199/16130\n",
            "Epoch 3/120 ... Training loss: 0.9658 ... Test loss: 0.8952 ... GPU memory usage: 2199/16130\n",
            "Epoch 4/120 ... Training loss: 0.8185 ... Test loss: 0.7656 ... GPU memory usage: 2199/16130\n",
            "Epoch 5/120 ... Training loss: 0.6953 ... Test loss: 0.6752 ... GPU memory usage: 2199/16130\n",
            "Epoch 6/120 ... Training loss: 0.592 ... Test loss: 0.5663 ... GPU memory usage: 2199/16130\n",
            "Epoch 7/120 ... Training loss: 0.5052 ... Test loss: 0.4966 ... GPU memory usage: 2199/16130\n",
            "Epoch 8/120 ... Training loss: 0.4321 ... Test loss: 0.4036 ... GPU memory usage: 2199/16130\n",
            "Epoch 9/120 ... Training loss: 0.3704 ... Test loss: 0.3586 ... GPU memory usage: 2199/16130\n",
            "Epoch 10/120 ... Training loss: 0.3183 ... Test loss: 0.318 ... GPU memory usage: 2199/16130\n",
            "Epoch 11/120 ... Training loss: 0.274 ... Test loss: 0.2726 ... GPU memory usage: 2199/16130\n",
            "Epoch 12/120 ... Training loss: 0.2364 ... Test loss: 0.2438 ... GPU memory usage: 2199/16130\n",
            "Epoch 13/120 ... Training loss: 0.2045 ... Test loss: 0.202 ... GPU memory usage: 2199/16130\n",
            "Epoch 14/120 ... Training loss: 0.1773 ... Test loss: 0.1764 ... GPU memory usage: 2199/16130\n",
            "Epoch 15/120 ... Training loss: 0.1541 ... Test loss: 0.1615 ... GPU memory usage: 2199/16130\n",
            "Epoch 16/120 ... Training loss: 0.1342 ... Test loss: 0.132 ... GPU memory usage: 2199/16130\n",
            "Epoch 17/120 ... Training loss: 0.1172 ... Test loss: 0.1154 ... GPU memory usage: 2199/16130\n",
            "Epoch 18/120 ... Training loss: 0.1025 ... Test loss: 0.1023 ... GPU memory usage: 2199/16130\n",
            "Epoch 19/120 ... Training loss: 0.09 ... Test loss: 0.0905 ... GPU memory usage: 2199/16130\n",
            "Epoch 20/120 ... Training loss: 0.0792 ... Test loss: 0.0799 ... GPU memory usage: 2199/16130\n",
            "Epoch 21/120 ... Training loss: 0.0696 ... Test loss: 0.0716 ... GPU memory usage: 2199/16130\n",
            "Epoch 22/120 ... Training loss: 0.0616 ... Test loss: 0.0637 ... GPU memory usage: 2199/16130\n",
            "Epoch 23/120 ... Training loss: 0.0544 ... Test loss: 0.0572 ... GPU memory usage: 2199/16130\n",
            "Epoch 24/120 ... Training loss: 0.0483 ... Test loss: 0.0516 ... GPU memory usage: 2199/16130\n",
            "Epoch 25/120 ... Training loss: 0.0429 ... Test loss: 0.0437 ... GPU memory usage: 2199/16130\n",
            "Epoch 26/120 ... Training loss: 0.0381 ... Test loss: 0.0382 ... GPU memory usage: 2199/16130\n",
            "Epoch 27/120 ... Training loss: 0.034 ... Test loss: 0.0344 ... GPU memory usage: 2199/16130\n",
            "Epoch 28/120 ... Training loss: 0.0303 ... Test loss: 0.0309 ... GPU memory usage: 2199/16130\n",
            "Epoch 29/120 ... Training loss: 0.0272 ... Test loss: 0.0256 ... GPU memory usage: 2199/16130\n",
            "Epoch 30/120 ... Training loss: 0.0243 ... Test loss: 0.0249 ... GPU memory usage: 2199/16130\n",
            "Epoch 31/120 ... Training loss: 0.0218 ... Test loss: 0.0234 ... GPU memory usage: 2199/16130\n",
            "Epoch 32/120 ... Training loss: 0.0195 ... Test loss: 0.0202 ... GPU memory usage: 2199/16130\n",
            "Epoch 33/120 ... Training loss: 0.0176 ... Test loss: 0.0188 ... GPU memory usage: 2199/16130\n",
            "Epoch 34/120 ... Training loss: 0.0158 ... Test loss: 0.0159 ... GPU memory usage: 2199/16130\n",
            "Epoch 35/120 ... Training loss: 0.0142 ... Test loss: 0.0141 ... GPU memory usage: 2199/16130\n",
            "Epoch 36/120 ... Training loss: 0.0128 ... Test loss: 0.0134 ... GPU memory usage: 2199/16130\n",
            "Epoch 37/120 ... Training loss: 0.0115 ... Test loss: 0.0123 ... GPU memory usage: 2199/16130\n",
            "Epoch 38/120 ... Training loss: 0.0104 ... Test loss: 0.0111 ... GPU memory usage: 2199/16130\n",
            "Epoch 39/120 ... Training loss: 0.0094 ... Test loss: 0.0098 ... GPU memory usage: 2199/16130\n",
            "Epoch 40/120 ... Training loss: 0.0085 ... Test loss: 0.0087 ... GPU memory usage: 2199/16130\n",
            "Epoch 41/120 ... Training loss: 0.0076 ... Test loss: 0.008 ... GPU memory usage: 2199/16130\n",
            "Epoch 42/120 ... Training loss: 0.0069 ... Test loss: 0.0072 ... GPU memory usage: 2199/16130\n",
            "Epoch 43/120 ... Training loss: 0.0063 ... Test loss: 0.0063 ... GPU memory usage: 2199/16130\n",
            "Epoch 44/120 ... Training loss: 0.0057 ... Test loss: 0.0057 ... GPU memory usage: 2199/16130\n",
            "Epoch 45/120 ... Training loss: 0.0051 ... Test loss: 0.0054 ... GPU memory usage: 2199/16130\n",
            "Epoch 46/120 ... Training loss: 0.0046 ... Test loss: 0.0052 ... GPU memory usage: 2199/16130\n",
            "Epoch 47/120 ... Training loss: 0.0042 ... Test loss: 0.0046 ... GPU memory usage: 2199/16130\n",
            "Epoch 48/120 ... Training loss: 0.0038 ... Test loss: 0.0039 ... GPU memory usage: 2199/16130\n",
            "Epoch 49/120 ... Training loss: 0.0034 ... Test loss: 0.0033 ... GPU memory usage: 2199/16130\n",
            "Epoch 50/120 ... Training loss: 0.0031 ... Test loss: 0.0031 ... GPU memory usage: 2199/16130\n",
            "Epoch 51/120 ... Training loss: 0.0029 ... Test loss: 0.0029 ... GPU memory usage: 2199/16130\n",
            "Epoch 52/120 ... Training loss: 0.0026 ... Test loss: 0.0028 ... GPU memory usage: 2199/16130\n",
            "Epoch 53/120 ... Training loss: 0.0023 ... Test loss: 0.0026 ... GPU memory usage: 2199/16130\n",
            "Epoch 54/120 ... Training loss: 0.0021 ... Test loss: 0.0023 ... GPU memory usage: 2199/16130\n",
            "Epoch 55/120 ... Training loss: 0.0019 ... Test loss: 0.0019 ... GPU memory usage: 2199/16130\n",
            "Epoch 56/120 ... Training loss: 0.0018 ... Test loss: 0.0017 ... GPU memory usage: 2199/16130\n",
            "Epoch 57/120 ... Training loss: 0.0016 ... Test loss: 0.0017 ... GPU memory usage: 2199/16130\n",
            "Epoch 58/120 ... Training loss: 0.0015 ... Test loss: 0.0016 ... GPU memory usage: 2199/16130\n",
            "Epoch 59/120 ... Training loss: 0.0013 ... Test loss: 0.0014 ... GPU memory usage: 2199/16130\n",
            "Epoch 60/120 ... Training loss: 0.0012 ... Test loss: 0.0011 ... GPU memory usage: 2199/16130\n",
            "Epoch 61/120 ... Training loss: 0.0011 ... Test loss: 0.0012 ... GPU memory usage: 2199/16130\n",
            "Epoch 62/120 ... Training loss: 0.001 ... Test loss: 0.001 ... GPU memory usage: 2199/16130\n",
            "Epoch 63/120 ... Training loss: 0.0009 ... Test loss: 0.001 ... GPU memory usage: 2199/16130\n",
            "Epoch 64/120 ... Training loss: 0.0008 ... Test loss: 0.0008 ... GPU memory usage: 2199/16130\n",
            "Epoch 65/120 ... Training loss: 0.0008 ... Test loss: 0.0007 ... GPU memory usage: 2199/16130\n",
            "Epoch 66/120 ... Training loss: 0.0007 ... Test loss: 0.0007 ... GPU memory usage: 2199/16130\n",
            "Epoch 67/120 ... Training loss: 0.0007 ... Test loss: 0.0007 ... GPU memory usage: 2199/16130\n",
            "Epoch 68/120 ... Training loss: 0.0006 ... Test loss: 0.0007 ... GPU memory usage: 2199/16130\n",
            "Epoch 69/120 ... Training loss: 0.0006 ... Test loss: 0.0005 ... GPU memory usage: 2199/16130\n",
            "Epoch 70/120 ... Training loss: 0.0005 ... Test loss: 0.0006 ... GPU memory usage: 2199/16130\n",
            "Epoch 71/120 ... Training loss: 0.0005 ... Test loss: 0.0006 ... GPU memory usage: 2199/16130\n",
            "Epoch 72/120 ... Training loss: 0.0005 ... Test loss: 0.0005 ... GPU memory usage: 2199/16130\n",
            "Epoch 73/120 ... Training loss: 0.0004 ... Test loss: 0.0005 ... GPU memory usage: 2199/16130\n",
            "Epoch 74/120 ... Training loss: 0.0004 ... Test loss: 0.0005 ... GPU memory usage: 2199/16130\n",
            "Epoch 75/120 ... Training loss: 0.0004 ... Test loss: 0.0004 ... GPU memory usage: 2199/16130\n",
            "Epoch 76/120 ... Training loss: 0.0004 ... Test loss: 0.0004 ... GPU memory usage: 2199/16130\n",
            "Epoch 77/120 ... Training loss: 0.0003 ... Test loss: 0.0004 ... GPU memory usage: 2199/16130\n",
            "Epoch 78/120 ... Training loss: 0.0003 ... Test loss: 0.0003 ... GPU memory usage: 2199/16130\n",
            "Epoch 79/120 ... Training loss: 0.0003 ... Test loss: 0.0003 ... GPU memory usage: 2199/16130\n",
            "Epoch 80/120 ... Training loss: 0.0003 ... Test loss: 0.0003 ... GPU memory usage: 2199/16130\n",
            "Epoch 81/120 ... Training loss: 0.0003 ... Test loss: 0.0003 ... GPU memory usage: 2199/16130\n",
            "Epoch 82/120 ... Training loss: 0.0003 ... Test loss: 0.0003 ... GPU memory usage: 2199/16130\n",
            "Epoch 83/120 ... Training loss: 0.0003 ... Test loss: 0.0003 ... GPU memory usage: 2199/16130\n",
            "Epoch 84/120 ... Training loss: 0.0003 ... Test loss: 0.0003 ... GPU memory usage: 2199/16130\n",
            "Epoch 85/120 ... Training loss: 0.0002 ... Test loss: 0.0003 ... GPU memory usage: 2199/16130\n",
            "Epoch 86/120 ... Training loss: 0.0003 ... Test loss: 0.0003 ... GPU memory usage: 2199/16130\n",
            "Epoch 87/120 ... Training loss: 0.0002 ... Test loss: 0.0002 ... GPU memory usage: 2199/16130\n",
            "Epoch 88/120 ... Training loss: 0.0002 ... Test loss: 0.0002 ... GPU memory usage: 2199/16130\n",
            "Epoch 89/120 ... Training loss: 0.0002 ... Test loss: 0.0002 ... GPU memory usage: 2199/16130\n",
            "Epoch 90/120 ... Training loss: 0.0002 ... Test loss: 0.0002 ... GPU memory usage: 2199/16130\n",
            "Epoch 91/120 ... Training loss: 0.0002 ... Test loss: 0.0002 ... GPU memory usage: 2199/16130\n",
            "Epoch 92/120 ... Training loss: 0.0002 ... Test loss: 0.0002 ... GPU memory usage: 2199/16130\n",
            "Epoch 93/120 ... Training loss: 0.0002 ... Test loss: 0.0002 ... GPU memory usage: 2199/16130\n",
            "Epoch 94/120 ... Training loss: 0.0002 ... Test loss: 0.0003 ... GPU memory usage: 2199/16130\n",
            "Epoch 95/120 ... Training loss: 0.0002 ... Test loss: 0.0002 ... GPU memory usage: 2199/16130\n",
            "Epoch 96/120 ... Training loss: 0.0002 ... Test loss: 0.0002 ... GPU memory usage: 2199/16130\n",
            "Epoch 97/120 ... Training loss: 0.0002 ... Test loss: 0.0002 ... GPU memory usage: 2199/16130\n",
            "Epoch 98/120 ... Training loss: 0.0002 ... Test loss: 0.0002 ... GPU memory usage: 2199/16130\n",
            "Epoch 99/120 ... Training loss: 0.0002 ... Test loss: 0.0002 ... GPU memory usage: 2199/16130\n",
            "Epoch 100/120 ... Training loss: 0.0002 ... Test loss: 0.0002 ... GPU memory usage: 2199/16130\n",
            "Epoch 101/120 ... Training loss: 0.0002 ... Test loss: 0.0002 ... GPU memory usage: 2199/16130\n",
            "Epoch 102/120 ... Training loss: 0.0002 ... Test loss: 0.0002 ... GPU memory usage: 2199/16130\n",
            "Epoch 103/120 ... Training loss: 0.0002 ... Test loss: 0.0002 ... GPU memory usage: 2199/16130\n",
            "Epoch 104/120 ... Training loss: 0.0002 ... Test loss: 0.0002 ... GPU memory usage: 2199/16130\n",
            "Epoch 105/120 ... Training loss: 0.0002 ... Test loss: 0.0002 ... GPU memory usage: 2199/16130\n",
            "Epoch 106/120 ... Training loss: 0.0002 ... Test loss: 0.0002 ... GPU memory usage: 2199/16130\n",
            "Epoch 107/120 ... Training loss: 0.0002 ... Test loss: 0.0002 ... GPU memory usage: 2199/16130\n",
            "Epoch 108/120 ... Training loss: 0.0002 ... Test loss: 0.0002 ... GPU memory usage: 2199/16130\n",
            "Epoch 109/120 ... Training loss: 0.0002 ... Test loss: 0.0002 ... GPU memory usage: 2199/16130\n",
            "Epoch 110/120 ... Training loss: 0.0002 ... Test loss: 0.0002 ... GPU memory usage: 2199/16130\n",
            "Epoch 111/120 ... Training loss: 0.0002 ... Test loss: 0.0002 ... GPU memory usage: 2199/16130\n",
            "Epoch 112/120 ... Training loss: 0.0002 ... Test loss: 0.0002 ... GPU memory usage: 2199/16130\n",
            "Epoch 113/120 ... Training loss: 0.0002 ... Test loss: 0.0002 ... GPU memory usage: 2199/16130\n",
            "Epoch 114/120 ... Training loss: 0.0002 ... Test loss: 0.0002 ... GPU memory usage: 2199/16130\n",
            "Epoch 115/120 ... Training loss: 0.0002 ... Test loss: 0.0002 ... GPU memory usage: 2199/16130\n",
            "Epoch 116/120 ... Training loss: 0.0002 ... Test loss: 0.0002 ... GPU memory usage: 2199/16130\n",
            "Epoch 117/120 ... Training loss: 0.0002 ... Test loss: 0.0002 ... GPU memory usage: 2199/16130\n",
            "Epoch 118/120 ... Training loss: 0.0002 ... Test loss: 0.0002 ... GPU memory usage: 2199/16130\n",
            "Epoch 119/120 ... Training loss: 0.0002 ... Test loss: 0.0002 ... GPU memory usage: 2199/16130\n",
            "Epoch 120/120 ... Training loss: 0.0002 ... Test loss: 0.0002 ... GPU memory usage: 2199/16130\n",
            "Performing stochastic weights averaging...\n",
            "Model (final state) evaluation loss: 0.0002\n",
            "Plotting training history\n"
          ],
          "name": "stdout"
        },
        {
          "output_type": "display_data",
          "data": {
            "image/png": "[encoded data removed]",
            "text/plain": [
              "<Figure size 432x432 with 1 Axes>"
            ]
          },
          "metadata": {
            "tags": [],
            "needs_background": "light"
          }
        }
      ]
    },
    {
      "cell_type": "markdown",
      "metadata": {
        "id": "B_m9vjqIUU7O"
      },
      "source": [
        "Make prediciton on test data:"
      ]
    },
    {
      "cell_type": "code",
      "metadata": {
        "colab": {
          "base_uri": "https://localhost:8080/"
        },
        "id": "mQIoPMKwOaYO",
        "outputId": "f17f5d6f-f641-48bc-f520-2e49e10b86ad"
      },
      "source": [
        "prediction = model.predict(imgs_test, norm=False)"
      ],
      "execution_count": 14,
      "outputs": [
        {
          "output_type": "stream",
          "text": [
            "Batch 10/10\n",
            "408 images were decoded in approximately 1.8218 seconds\n"
          ],
          "name": "stdout"
        }
      ]
    },
    {
      "cell_type": "markdown",
      "metadata": {
        "id": "fnOpYG04UXcG"
      },
      "source": [
        "Visualize for selected test image: "
      ]
    },
    {
      "cell_type": "code",
      "metadata": {
        "colab": {
          "base_uri": "https://localhost:8080/",
          "height": 283
        },
        "id": "ZduPGiZsUM64",
        "outputId": "9f717f60-0899-4159-ae8c-d655c729b723"
      },
      "source": [
        "k = 100\n",
        "\n",
        "_, (ax1, ax2) = plt.subplots(1, 2, figsize=(10, 4))\n",
        "ax1.imshow(imgs_test[k], cmap='gray', label=\"Input image\")\n",
        "ax2.plot(specval, spectra_test[k], label=\"Ground truth\")\n",
        "ax2.plot(specval, prediction[k], label=\"Prediction\")\n",
        "plt.legend()"
      ],
      "execution_count": 15,
      "outputs": [
        {
          "output_type": "execute_result",
          "data": {
            "text/plain": [
              "<matplotlib.legend.Legend at 0x7ff3c133d9b0>"
            ]
          },
          "metadata": {
            "tags": []
          },
          "execution_count": 15
        },
        {
          "output_type": "display_data",
          "data": {
            "image/png": "[encoded data removed]",
            "text/plain": [
              "<Figure size 720x288 with 2 Axes>"
            ]
          },
          "metadata": {
            "tags": [],
            "needs_background": "light"
          }
        }
      ]
    },
    {
      "cell_type": "code",
      "metadata": {
        "id": "osx--biaVQO5"
      },
      "source": [
        ""
      ],
      "execution_count": 15,
      "outputs": []
    }
  ]
}