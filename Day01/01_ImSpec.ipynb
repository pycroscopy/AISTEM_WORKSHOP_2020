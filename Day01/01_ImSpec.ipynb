{
  "nbformat": 4,
  "nbformat_minor": 0,
  "metadata": {
    "colab": {
      "name": "01_ImSpec.ipynb",
      "provenance": [],
      "collapsed_sections": []
    },
    "kernelspec": {
      "name": "python3",
      "display_name": "Python 3"
    },
    "accelerator": "GPU"
  },
  "cells": [
    {
      "cell_type": "markdown",
      "metadata": {
        "id": "Ekny4V0iZeKu"
      },
      "source": [
        "# Im2Spec models for converting structure (images) to property (spectra)"
      ]
    },
    {
      "cell_type": "markdown",
      "metadata": {
        "id": "ok76aaBPCfSq"
      },
      "source": [
        "\n",
        "\n",
        "---\n",
        "\n",
        "This notebook demosntrates usage of encoder-decoder neural networks for convering images (structure) to spectra (property).\n",
        "\n",
        "---\n",
        "\n"
      ]
    },
    {
      "cell_type": "markdown",
      "metadata": {
        "id": "GU8iEqQyZdUN"
      },
      "source": [
        "Notebook prepared by Maxim Ziatdinov \n",
        "\n",
        "Email: ziatdinovmax@gmail.com"
      ]
    },
    {
      "cell_type": "markdown",
      "metadata": {
        "id": "eAV1Jun1k4xo"
      },
      "source": [
        "Install AtomAI:"
      ]
    },
    {
      "cell_type": "code",
      "metadata": {
        "colab": {
          "base_uri": "https://localhost:8080/"
        },
        "id": "RTTKRtL4rb7C",
        "outputId": "9889aef9-02dc-48f8-9ecf-89ecdbbe81d0"
      },
      "source": [
        "!pip install git+https://github.com/ziatdinovmax/atomai@refactoring --upgrade  # will replace with PyPi version"
      ],
      "execution_count": 6,
      "outputs": [
        {
          "output_type": "stream",
          "text": [
            "Collecting git+https://github.com/ziatdinovmax/atomai@refactoring\n",
            "  Cloning https://github.com/ziatdinovmax/atomai (to revision refactoring) to /tmp/pip-req-build-xb9_4git\n",
            "  Running command git clone -q https://github.com/ziatdinovmax/atomai /tmp/pip-req-build-xb9_4git\n",
            "  Running command git checkout -b refactoring --track origin/refactoring\n",
            "  Switched to a new branch 'refactoring'\n",
            "  Branch 'refactoring' set up to track remote branch 'refactoring' from 'origin'.\n",
            "Requirement already satisfied, skipping upgrade: torch>=1.0.0 in /usr/local/lib/python3.6/dist-packages (from atomai==0.5.9) (1.7.0+cu101)\n",
            "Requirement already satisfied, skipping upgrade: numpy>=1.18.5 in /usr/local/lib/python3.6/dist-packages (from atomai==0.5.9) (1.18.5)\n",
            "Requirement already satisfied, skipping upgrade: scipy>=1.3.0 in /usr/local/lib/python3.6/dist-packages (from atomai==0.5.9) (1.4.1)\n",
            "Requirement already satisfied, skipping upgrade: scikit-learn>=0.22.1 in /usr/local/lib/python3.6/dist-packages (from atomai==0.5.9) (0.22.2.post1)\n",
            "Requirement already satisfied, skipping upgrade: scikit-image==0.16.2 in /usr/local/lib/python3.6/dist-packages (from atomai==0.5.9) (0.16.2)\n",
            "Requirement already satisfied, skipping upgrade: opencv-python<=4.3.0,>=4.1.0 in /usr/local/lib/python3.6/dist-packages (from atomai==0.5.9) (4.1.2.30)\n",
            "Requirement already satisfied, skipping upgrade: networkx>=2.5 in /usr/local/lib/python3.6/dist-packages (from atomai==0.5.9) (2.5)\n",
            "Collecting mendeleev>=0.6.0\n",
            "\u001b[?25l  Downloading https://files.pythonhosted.org/packages/f0/75/5863bb298aa1390cb9ecb0548a62b8213ef085273f9d3c73e513b9c36214/mendeleev-0.6.1.tar.gz (193kB)\n",
            "\u001b[K     |████████████████████████████████| 194kB 8.0MB/s \n",
            "\u001b[?25hRequirement already satisfied, skipping upgrade: future in /usr/local/lib/python3.6/dist-packages (from torch>=1.0.0->atomai==0.5.9) (0.16.0)\n",
            "Requirement already satisfied, skipping upgrade: typing-extensions in /usr/local/lib/python3.6/dist-packages (from torch>=1.0.0->atomai==0.5.9) (3.7.4.3)\n",
            "Requirement already satisfied, skipping upgrade: dataclasses in /usr/local/lib/python3.6/dist-packages (from torch>=1.0.0->atomai==0.5.9) (0.8)\n",
            "Requirement already satisfied, skipping upgrade: joblib>=0.11 in /usr/local/lib/python3.6/dist-packages (from scikit-learn>=0.22.1->atomai==0.5.9) (0.17.0)\n",
            "Requirement already satisfied, skipping upgrade: PyWavelets>=0.4.0 in /usr/local/lib/python3.6/dist-packages (from scikit-image==0.16.2->atomai==0.5.9) (1.1.1)\n",
            "Requirement already satisfied, skipping upgrade: pillow>=4.3.0 in /usr/local/lib/python3.6/dist-packages (from scikit-image==0.16.2->atomai==0.5.9) (7.0.0)\n",
            "Requirement already satisfied, skipping upgrade: matplotlib!=3.0.0,>=2.0.0 in /usr/local/lib/python3.6/dist-packages (from scikit-image==0.16.2->atomai==0.5.9) (3.2.2)\n",
            "Requirement already satisfied, skipping upgrade: imageio>=2.3.0 in /usr/local/lib/python3.6/dist-packages (from scikit-image==0.16.2->atomai==0.5.9) (2.4.1)\n",
            "Requirement already satisfied, skipping upgrade: decorator>=4.3.0 in /usr/local/lib/python3.6/dist-packages (from networkx>=2.5->atomai==0.5.9) (4.4.2)\n",
            "Requirement already satisfied, skipping upgrade: pandas in /usr/local/lib/python3.6/dist-packages (from mendeleev>=0.6.0->atomai==0.5.9) (1.1.4)\n",
            "Requirement already satisfied, skipping upgrade: sqlalchemy>=1.3.0 in /usr/local/lib/python3.6/dist-packages (from mendeleev>=0.6.0->atomai==0.5.9) (1.3.20)\n",
            "Collecting colorama\n",
            "  Downloading https://files.pythonhosted.org/packages/44/98/5b86278fbbf250d239ae0ecb724f8572af1c91f4a11edf4d36a206189440/colorama-0.4.4-py2.py3-none-any.whl\n",
            "Collecting pyfiglet\n",
            "\u001b[?25l  Downloading https://files.pythonhosted.org/packages/33/07/fcfdd7a2872f5b348953de35acce1544dab0c1e8368dca54279b1cde5c15/pyfiglet-0.8.post1-py2.py3-none-any.whl (865kB)\n",
            "\u001b[K     |████████████████████████████████| 870kB 28.5MB/s \n",
            "\u001b[?25hRequirement already satisfied, skipping upgrade: kiwisolver>=1.0.1 in /usr/local/lib/python3.6/dist-packages (from matplotlib!=3.0.0,>=2.0.0->scikit-image==0.16.2->atomai==0.5.9) (1.3.1)\n",
            "Requirement already satisfied, skipping upgrade: pyparsing!=2.0.4,!=2.1.2,!=2.1.6,>=2.0.1 in /usr/local/lib/python3.6/dist-packages (from matplotlib!=3.0.0,>=2.0.0->scikit-image==0.16.2->atomai==0.5.9) (2.4.7)\n",
            "Requirement already satisfied, skipping upgrade: cycler>=0.10 in /usr/local/lib/python3.6/dist-packages (from matplotlib!=3.0.0,>=2.0.0->scikit-image==0.16.2->atomai==0.5.9) (0.10.0)\n",
            "Requirement already satisfied, skipping upgrade: python-dateutil>=2.1 in /usr/local/lib/python3.6/dist-packages (from matplotlib!=3.0.0,>=2.0.0->scikit-image==0.16.2->atomai==0.5.9) (2.8.1)\n",
            "Requirement already satisfied, skipping upgrade: pytz>=2017.2 in /usr/local/lib/python3.6/dist-packages (from pandas->mendeleev>=0.6.0->atomai==0.5.9) (2018.9)\n",
            "Requirement already satisfied, skipping upgrade: six in /usr/local/lib/python3.6/dist-packages (from cycler>=0.10->matplotlib!=3.0.0,>=2.0.0->scikit-image==0.16.2->atomai==0.5.9) (1.15.0)\n",
            "Building wheels for collected packages: atomai, mendeleev\n",
            "  Building wheel for atomai (setup.py) ... \u001b[?25l\u001b[?25hdone\n",
            "  Created wheel for atomai: filename=atomai-0.5.9-cp36-none-any.whl size=103917 sha256=47667828d4b466d2b1a54aedd6c72c1b61e0b26a22eb3905e980b2b88aa4144b\n",
            "  Stored in directory: /tmp/pip-ephem-wheel-cache-fvtp3did/wheels/07/c1/a0/bb2931940382974a8fd91344bb9587ab720a9fdbe3e5e5ab90\n",
            "  Building wheel for mendeleev (setup.py) ... \u001b[?25l\u001b[?25hdone\n",
            "  Created wheel for mendeleev: filename=mendeleev-0.6.1-py2.py3-none-any.whl size=174964 sha256=97a9dbb05a41e92dd6ad074ead3edfcfadf78b3a0c267e711682665f3539b2f4\n",
            "  Stored in directory: /root/.cache/pip/wheels/fb/28/5d/95e69a718b35dd00169889b0139a692f6c265d399cab3aa097\n",
            "Successfully built atomai mendeleev\n",
            "Installing collected packages: colorama, pyfiglet, mendeleev, atomai\n",
            "Successfully installed atomai-0.5.9 colorama-0.4.4 mendeleev-0.6.1 pyfiglet-0.8.post1\n"
          ],
          "name": "stdout"
        }
      ]
    },
    {
      "cell_type": "markdown",
      "metadata": {
        "id": "hLMdVgNctiZw"
      },
      "source": [
        "Imports:"
      ]
    },
    {
      "cell_type": "code",
      "metadata": {
        "id": "aMbJ68Wytb-1"
      },
      "source": [
        "import atomai as aoi\n",
        "import numpy as np\n",
        "import matplotlib.pyplot as plt"
      ],
      "execution_count": 31,
      "outputs": []
    },
    {
      "cell_type": "markdown",
      "metadata": {
        "id": "gBUTYEG0k5fJ"
      },
      "source": [
        "(Down)load training data:"
      ]
    },
    {
      "cell_type": "markdown",
      "metadata": {
        "id": "xl5WqXa_Ug7t"
      },
      "source": [
        "## Im2Spec approach"
      ]
    },
    {
      "cell_type": "markdown",
      "metadata": {
        "id": "odDxxw8mD0zI"
      },
      "source": [
        "In im2spec approach, the sub-images representing a local structure are “compressed” via a convolutional neural network architecture to the small number of latent variables, and the latter are “deconvoluted” to yield the spectra. In the spec2im approach, the process is reversed. The networks are implemented using the PyTorch deep leaning library and are available from the accompanying Colab notebook. The architecture of the im2spec model is straightforward. It consists of two parts: an encoder for embedding input images into a latent vector and a decoder for generating one-dimensional signals from the embedded features. The encoder part consists of three back-to-back two-dimensional\n",
        "convolutional layers, whereas the decoder part represents a pyramid of one-dimensional dilated convolutions with dilation rates of 1, 2, 3, and 4. The dilated convolutions showed superior performance compared to regular convolutional blocks in the decoder. Each convolutional layer in both encoder and decoder parts is formed by running 64 filters (“kernels”) of size 3 on its input and is activated by a leaky rectified linear unit with a negative slope of 0.1. The batch\n",
        "normalization is applied after each activation to avoid overfitting and improve generalization to new data. The “bottleneck” layer for representing the latent vector is a fully connected layer with the number of neurons equal to the specified number of latent dimensions. "
      ]
    },
    {
      "cell_type": "markdown",
      "metadata": {
        "id": "c8BE-d_rDSVb"
      },
      "source": [
        "<img src=\"https://drive.google.com/uc?export=view&id=18cvXfDdpy1Ij-p1T-jALa_nBZ0iRsalW\" width=800 px><br><br>"
      ]
    },
    {
      "cell_type": "markdown",
      "metadata": {
        "id": "n-XcBsKoXixq"
      },
      "source": [
        "Here we are going to apply *imspec* approach to two different datasets: i) SPM BEPS dataset obtained by Kyle Kelley, and ii) STEM EELS dataset obtained by Jordan Hachtel. For the details of training/test data preparation, see [this](https://arxiv.org/pdf/2006.01374.pdf) and [this](https://arxiv.org/pdf/2009.09005.pdf) paper."
      ]
    },
    {
      "cell_type": "markdown",
      "metadata": {
        "id": "j1jk_lsQU7H6"
      },
      "source": [
        "## Application to SPM BEPS data"
      ]
    },
    {
      "cell_type": "markdown",
      "metadata": {
        "id": "IfQrBpnDU1Em"
      },
      "source": [
        "(Down)load training data:"
      ]
    },
    {
      "cell_type": "code",
      "metadata": {
        "colab": {
          "base_uri": "https://localhost:8080/"
        },
        "id": "LYchGqCQvz-m",
        "outputId": "fedbc88c-45c1-4ce2-a946-495807a759f7"
      },
      "source": [
        "download_link = \"https://drive.google.com/uc?id=18CjoX3TmZfP2ZAQVEzWalWTvyhapXcS4\"\n",
        "!gdown $download_link -O 'imspec_data.npz'\n",
        "\n",
        "dataset = np.load('imspec_data.npz')\n",
        "imgs = dataset['im2spec_images']\n",
        "spectra = dataset['im2spec_spectra']\n",
        "specval = dataset['im2spec_specval']"
      ],
      "execution_count": 42,
      "outputs": [
        {
          "output_type": "stream",
          "text": [
            "Downloading...\n",
            "From: https://drive.google.com/uc?id=18CjoX3TmZfP2ZAQVEzWalWTvyhapXcS4\n",
            "To: /content/imspec_data.npz\n",
            "\r  0% 0.00/468k [00:00<?, ?B/s]\r100% 468k/468k [00:00<00:00, 68.5MB/s]\n"
          ],
          "name": "stdout"
        }
      ]
    },
    {
      "cell_type": "markdown",
      "metadata": {
        "id": "jUeeqy58VCEo"
      },
      "source": [
        "Visualize individual image spectra pairs:"
      ]
    },
    {
      "cell_type": "code",
      "metadata": {
        "colab": {
          "base_uri": "https://localhost:8080/",
          "height": 283
        },
        "id": "SmcZaGOzVFa_",
        "outputId": "bd963c72-e15e-419c-dd8f-505d8e0793c0"
      },
      "source": [
        "k = 12\n",
        "_, (ax1, ax2) = plt.subplots(1, 2, figsize=(9, 4))\n",
        "ax1.imshow(imgs[k], cmap='gray')\n",
        "ax2.plot(specval[0, :64], spectra[k])"
      ],
      "execution_count": 43,
      "outputs": [
        {
          "output_type": "execute_result",
          "data": {
            "text/plain": [
              "[<matplotlib.lines.Line2D at 0x7f0281f0c9b0>]"
            ]
          },
          "metadata": {
            "tags": []
          },
          "execution_count": 43
        },
        {
          "output_type": "display_data",
          "data": {
            "image/png": "[encoded data removed]",
            "text/plain": [
              "<Figure size 648x288 with 2 Axes>"
            ]
          },
          "metadata": {
            "tags": [],
            "needs_background": "light"
          }
        }
      ]
    },
    {
      "cell_type": "markdown",
      "metadata": {
        "id": "Xdx-kP9E60SH"
      },
      "source": [
        "Train-test split:"
      ]
    },
    {
      "cell_type": "code",
      "metadata": {
        "id": "ejgyv6Fd3EEo"
      },
      "source": [
        "imgs_train, spectra_train, imgs_test, spectra_test = aoi.utils.data_split(imgs, spectra, format_out=\"torch_float\")"
      ],
      "execution_count": 37,
      "outputs": []
    },
    {
      "cell_type": "markdown",
      "metadata": {
        "id": "-HzP6F7xWcaC"
      },
      "source": [
        "Initialize and train ImSpec model:"
      ]
    },
    {
      "cell_type": "code",
      "metadata": {
        "colab": {
          "base_uri": "https://localhost:8080/",
          "height": 1000
        },
        "id": "vO_RmdtD3MCq",
        "outputId": "95e18568-7829-4480-f788-a752bfbd89b0"
      },
      "source": [
        "in_dim = (16, 16)\n",
        "out_dim = (64,)\n",
        "\n",
        "model = aoi.models.ImSpec(in_dim, out_dim, latent_dim=10, seed=2)\n",
        "\n",
        "model.fit(imgs_train, spectra_train, imgs_test, spectra_test,  # training data\n",
        "          full_epoch=True, training_cycles=120, swa=True, batch_norm=True)  # training parameters"
      ],
      "execution_count": 38,
      "outputs": [
        {
          "output_type": "stream",
          "text": [
            "/usr/local/lib/python3.6/dist-packages/atomai/utils/preproc.py:89: UserWarning: Adding a channel dimension of 1 to training images\n",
            "  UserWarning)\n",
            "/usr/local/lib/python3.6/dist-packages/atomai/utils/preproc.py:94: UserWarning: Adding a channel dimension of 1 to test images\n",
            "  UserWarning)\n",
            "/usr/local/lib/python3.6/dist-packages/atomai/utils/preproc.py:99: UserWarning: Adding a channel dimension of 1 to training spectra\n",
            "  UserWarning)\n",
            "/usr/local/lib/python3.6/dist-packages/atomai/utils/preproc.py:104: UserWarning: Adding a channel dimension of 1 to test spectra\n",
            "  UserWarning)\n"
          ],
          "name": "stderr"
        },
        {
          "output_type": "stream",
          "text": [
            "Epoch 1/120 ... Training loss: 26.0838 ... Test loss: 26.0952 ... GPU memory usage: 1035/15079\n",
            "Epoch 2/120 ... Training loss: 24.926 ... Test loss: 24.4759 ... GPU memory usage: 1035/15079\n",
            "Epoch 3/120 ... Training loss: 24.41 ... Test loss: 24.463 ... GPU memory usage: 1035/15079\n",
            "Epoch 4/120 ... Training loss: 24.0909 ... Test loss: 24.2744 ... GPU memory usage: 1035/15079\n",
            "Epoch 5/120 ... Training loss: 23.5923 ... Test loss: 24.0855 ... GPU memory usage: 1035/15079\n",
            "Epoch 6/120 ... Training loss: 23.1414 ... Test loss: 23.0781 ... GPU memory usage: 1035/15079\n",
            "Epoch 7/120 ... Training loss: 22.6771 ... Test loss: 22.8791 ... GPU memory usage: 1035/15079\n",
            "Epoch 8/120 ... Training loss: 22.3517 ... Test loss: 22.0524 ... GPU memory usage: 1035/15079\n",
            "Epoch 9/120 ... Training loss: 21.8273 ... Test loss: 21.9811 ... GPU memory usage: 1035/15079\n",
            "Epoch 10/120 ... Training loss: 21.4356 ... Test loss: 21.1353 ... GPU memory usage: 1035/15079\n",
            "Epoch 11/120 ... Training loss: 21.0802 ... Test loss: 21.1235 ... GPU memory usage: 1035/15079\n",
            "Epoch 12/120 ... Training loss: 20.5761 ... Test loss: 20.7642 ... GPU memory usage: 1035/15079\n",
            "Epoch 13/120 ... Training loss: 20.2414 ... Test loss: 19.1152 ... GPU memory usage: 1035/15079\n",
            "Epoch 14/120 ... Training loss: 19.889 ... Test loss: 19.5231 ... GPU memory usage: 1035/15079\n",
            "Epoch 15/120 ... Training loss: 19.3674 ... Test loss: 19.463 ... GPU memory usage: 1035/15079\n",
            "Epoch 16/120 ... Training loss: 18.9151 ... Test loss: 18.961 ... GPU memory usage: 1035/15079\n",
            "Epoch 17/120 ... Training loss: 18.3928 ... Test loss: 17.9808 ... GPU memory usage: 1035/15079\n",
            "Epoch 18/120 ... Training loss: 18.062 ... Test loss: 17.3778 ... GPU memory usage: 1035/15079\n",
            "Epoch 19/120 ... Training loss: 17.6655 ... Test loss: 17.2224 ... GPU memory usage: 1035/15079\n",
            "Epoch 20/120 ... Training loss: 17.2929 ... Test loss: 16.9017 ... GPU memory usage: 1035/15079\n",
            "Epoch 21/120 ... Training loss: 16.8074 ... Test loss: 17.0497 ... GPU memory usage: 1035/15079\n",
            "Epoch 22/120 ... Training loss: 16.3366 ... Test loss: 15.8468 ... GPU memory usage: 1035/15079\n",
            "Epoch 23/120 ... Training loss: 16.0916 ... Test loss: 16.0518 ... GPU memory usage: 1035/15079\n",
            "Epoch 24/120 ... Training loss: 15.6103 ... Test loss: 15.4544 ... GPU memory usage: 1035/15079\n",
            "Epoch 25/120 ... Training loss: 15.1622 ... Test loss: 15.4186 ... GPU memory usage: 1035/15079\n",
            "Epoch 26/120 ... Training loss: 14.7793 ... Test loss: 14.8281 ... GPU memory usage: 1035/15079\n",
            "Epoch 27/120 ... Training loss: 14.3537 ... Test loss: 14.4016 ... GPU memory usage: 1035/15079\n",
            "Epoch 28/120 ... Training loss: 13.9192 ... Test loss: 14.1413 ... GPU memory usage: 1035/15079\n",
            "Epoch 29/120 ... Training loss: 13.5852 ... Test loss: 13.5085 ... GPU memory usage: 1035/15079\n",
            "Epoch 30/120 ... Training loss: 13.1318 ... Test loss: 12.9703 ... GPU memory usage: 1035/15079\n",
            "Epoch 31/120 ... Training loss: 12.7185 ... Test loss: 12.4562 ... GPU memory usage: 1035/15079\n",
            "Epoch 32/120 ... Training loss: 12.328 ... Test loss: 12.2197 ... GPU memory usage: 1035/15079\n",
            "Epoch 33/120 ... Training loss: 11.9337 ... Test loss: 11.348 ... GPU memory usage: 1035/15079\n",
            "Epoch 34/120 ... Training loss: 11.5708 ... Test loss: 11.4462 ... GPU memory usage: 1035/15079\n",
            "Epoch 35/120 ... Training loss: 11.1183 ... Test loss: 10.9009 ... GPU memory usage: 1035/15079\n",
            "Epoch 36/120 ... Training loss: 10.9059 ... Test loss: 10.8778 ... GPU memory usage: 1035/15079\n",
            "Epoch 37/120 ... Training loss: 10.4542 ... Test loss: 10.826 ... GPU memory usage: 1035/15079\n",
            "Epoch 38/120 ... Training loss: 10.0913 ... Test loss: 10.382 ... GPU memory usage: 1035/15079\n",
            "Epoch 39/120 ... Training loss: 9.7366 ... Test loss: 9.9531 ... GPU memory usage: 1035/15079\n",
            "Epoch 40/120 ... Training loss: 9.4086 ... Test loss: 10.0522 ... GPU memory usage: 1035/15079\n",
            "Epoch 41/120 ... Training loss: 9.0752 ... Test loss: 9.9397 ... GPU memory usage: 1035/15079\n",
            "Epoch 42/120 ... Training loss: 8.7016 ... Test loss: 8.5267 ... GPU memory usage: 1035/15079\n",
            "Epoch 43/120 ... Training loss: 8.3511 ... Test loss: 8.1215 ... GPU memory usage: 1035/15079\n",
            "Epoch 44/120 ... Training loss: 7.9503 ... Test loss: 8.4098 ... GPU memory usage: 1035/15079\n",
            "Epoch 45/120 ... Training loss: 7.7525 ... Test loss: 7.5499 ... GPU memory usage: 1035/15079\n",
            "Epoch 46/120 ... Training loss: 7.4584 ... Test loss: 7.4721 ... GPU memory usage: 1035/15079\n",
            "Epoch 47/120 ... Training loss: 7.1418 ... Test loss: 7.1495 ... GPU memory usage: 1035/15079\n",
            "Epoch 48/120 ... Training loss: 6.844 ... Test loss: 6.4654 ... GPU memory usage: 1035/15079\n",
            "Epoch 49/120 ... Training loss: 6.5271 ... Test loss: 6.6116 ... GPU memory usage: 1035/15079\n",
            "Epoch 50/120 ... Training loss: 6.2593 ... Test loss: 6.5127 ... GPU memory usage: 1035/15079\n",
            "Epoch 51/120 ... Training loss: 5.9908 ... Test loss: 6.5932 ... GPU memory usage: 1035/15079\n",
            "Epoch 52/120 ... Training loss: 5.6918 ... Test loss: 5.8848 ... GPU memory usage: 1035/15079\n",
            "Epoch 53/120 ... Training loss: 5.4824 ... Test loss: 5.9928 ... GPU memory usage: 1035/15079\n",
            "Epoch 54/120 ... Training loss: 5.1956 ... Test loss: 5.5916 ... GPU memory usage: 1035/15079\n",
            "Epoch 55/120 ... Training loss: 5.0096 ... Test loss: 5.722 ... GPU memory usage: 1035/15079\n",
            "Epoch 56/120 ... Training loss: 4.7144 ... Test loss: 4.9402 ... GPU memory usage: 1035/15079\n",
            "Epoch 57/120 ... Training loss: 4.5412 ... Test loss: 5.0688 ... GPU memory usage: 1035/15079\n",
            "Epoch 58/120 ... Training loss: 4.2919 ... Test loss: 4.6165 ... GPU memory usage: 1035/15079\n",
            "Epoch 59/120 ... Training loss: 4.142 ... Test loss: 4.546 ... GPU memory usage: 1035/15079\n",
            "Epoch 60/120 ... Training loss: 3.8535 ... Test loss: 4.1621 ... GPU memory usage: 1035/15079\n",
            "Epoch 61/120 ... Training loss: 3.6588 ... Test loss: 4.1411 ... GPU memory usage: 1035/15079\n",
            "Epoch 62/120 ... Training loss: 3.4707 ... Test loss: 3.6908 ... GPU memory usage: 1035/15079\n",
            "Epoch 63/120 ... Training loss: 3.3484 ... Test loss: 3.461 ... GPU memory usage: 1035/15079\n",
            "Epoch 64/120 ... Training loss: 3.1641 ... Test loss: 3.3661 ... GPU memory usage: 1035/15079\n",
            "Epoch 65/120 ... Training loss: 3.0478 ... Test loss: 3.2272 ... GPU memory usage: 1035/15079\n",
            "Epoch 66/120 ... Training loss: 2.8361 ... Test loss: 3.2809 ... GPU memory usage: 1035/15079\n",
            "Epoch 67/120 ... Training loss: 2.6734 ... Test loss: 2.6503 ... GPU memory usage: 1035/15079\n",
            "Epoch 68/120 ... Training loss: 2.506 ... Test loss: 3.2281 ... GPU memory usage: 1035/15079\n",
            "Epoch 69/120 ... Training loss: 2.3851 ... Test loss: 2.6588 ... GPU memory usage: 1035/15079\n",
            "Epoch 70/120 ... Training loss: 2.2381 ... Test loss: 2.6425 ... GPU memory usage: 1035/15079\n",
            "Epoch 71/120 ... Training loss: 2.1576 ... Test loss: 2.0694 ... GPU memory usage: 1035/15079\n",
            "Epoch 72/120 ... Training loss: 2.0311 ... Test loss: 2.3143 ... GPU memory usage: 1035/15079\n",
            "Epoch 73/120 ... Training loss: 1.9145 ... Test loss: 2.3428 ... GPU memory usage: 1035/15079\n",
            "Epoch 74/120 ... Training loss: 1.7638 ... Test loss: 2.2245 ... GPU memory usage: 1035/15079\n",
            "Epoch 75/120 ... Training loss: 1.7047 ... Test loss: 2.4309 ... GPU memory usage: 1035/15079\n",
            "Epoch 76/120 ... Training loss: 1.5432 ... Test loss: 1.8793 ... GPU memory usage: 1035/15079\n",
            "Epoch 77/120 ... Training loss: 1.5392 ... Test loss: 1.6571 ... GPU memory usage: 1035/15079\n",
            "Epoch 78/120 ... Training loss: 1.4178 ... Test loss: 1.8906 ... GPU memory usage: 1035/15079\n",
            "Epoch 79/120 ... Training loss: 1.3019 ... Test loss: 1.9394 ... GPU memory usage: 1035/15079\n",
            "Epoch 80/120 ... Training loss: 1.3218 ... Test loss: 1.7165 ... GPU memory usage: 1035/15079\n",
            "Epoch 81/120 ... Training loss: 1.1626 ... Test loss: 1.7499 ... GPU memory usage: 1035/15079\n",
            "Epoch 82/120 ... Training loss: 1.1254 ... Test loss: 1.6091 ... GPU memory usage: 1035/15079\n",
            "Epoch 83/120 ... Training loss: 1.0721 ... Test loss: 1.4039 ... GPU memory usage: 1035/15079\n",
            "Epoch 84/120 ... Training loss: 1.0157 ... Test loss: 1.628 ... GPU memory usage: 1035/15079\n",
            "Epoch 85/120 ... Training loss: 0.9415 ... Test loss: 1.5087 ... GPU memory usage: 1035/15079\n",
            "Epoch 86/120 ... Training loss: 0.9089 ... Test loss: 1.6213 ... GPU memory usage: 1035/15079\n",
            "Epoch 87/120 ... Training loss: 0.8188 ... Test loss: 1.3584 ... GPU memory usage: 1035/15079\n",
            "Epoch 88/120 ... Training loss: 0.7572 ... Test loss: 1.3252 ... GPU memory usage: 1035/15079\n",
            "Epoch 89/120 ... Training loss: 0.7027 ... Test loss: 1.1604 ... GPU memory usage: 1035/15079\n",
            "Epoch 90/120 ... Training loss: 0.6652 ... Test loss: 1.2298 ... GPU memory usage: 1035/15079\n",
            "Epoch 91/120 ... Training loss: 0.6499 ... Test loss: 1.0699 ... GPU memory usage: 1035/15079\n",
            "Epoch 92/120 ... Training loss: 0.6196 ... Test loss: 1.223 ... GPU memory usage: 1035/15079\n",
            "Epoch 93/120 ... Training loss: 0.5846 ... Test loss: 1.301 ... GPU memory usage: 1035/15079\n",
            "Epoch 94/120 ... Training loss: 0.5473 ... Test loss: 1.2688 ... GPU memory usage: 1035/15079\n",
            "Epoch 95/120 ... Training loss: 0.5316 ... Test loss: 1.1654 ... GPU memory usage: 1035/15079\n",
            "Epoch 96/120 ... Training loss: 0.4794 ... Test loss: 1.0047 ... GPU memory usage: 1035/15079\n",
            "Epoch 97/120 ... Training loss: 0.4568 ... Test loss: 1.094 ... GPU memory usage: 1035/15079\n",
            "Epoch 98/120 ... Training loss: 0.4431 ... Test loss: 1.0242 ... GPU memory usage: 1035/15079\n",
            "Epoch 99/120 ... Training loss: 0.4243 ... Test loss: 1.0744 ... GPU memory usage: 1035/15079\n",
            "Epoch 100/120 ... Training loss: 0.3936 ... Test loss: 0.9777 ... GPU memory usage: 1035/15079\n",
            "Epoch 101/120 ... Training loss: 0.3727 ... Test loss: 1.0386 ... GPU memory usage: 1035/15079\n",
            "Epoch 102/120 ... Training loss: 0.358 ... Test loss: 0.9904 ... GPU memory usage: 1035/15079\n",
            "Epoch 103/120 ... Training loss: 0.3403 ... Test loss: 0.9632 ... GPU memory usage: 1035/15079\n",
            "Epoch 104/120 ... Training loss: 0.3232 ... Test loss: 0.9276 ... GPU memory usage: 1035/15079\n",
            "Epoch 105/120 ... Training loss: 0.3181 ... Test loss: 0.974 ... GPU memory usage: 1035/15079\n",
            "Epoch 106/120 ... Training loss: 0.2926 ... Test loss: 0.8491 ... GPU memory usage: 1035/15079\n",
            "Epoch 107/120 ... Training loss: 0.2924 ... Test loss: 0.9847 ... GPU memory usage: 1035/15079\n",
            "Epoch 108/120 ... Training loss: 0.3286 ... Test loss: 0.918 ... GPU memory usage: 1035/15079\n",
            "Epoch 109/120 ... Training loss: 0.3057 ... Test loss: 0.8424 ... GPU memory usage: 1035/15079\n",
            "Epoch 110/120 ... Training loss: 0.284 ... Test loss: 0.9194 ... GPU memory usage: 1035/15079\n",
            "Epoch 111/120 ... Training loss: 0.246 ... Test loss: 0.8819 ... GPU memory usage: 1035/15079\n",
            "Epoch 112/120 ... Training loss: 0.2227 ... Test loss: 0.9359 ... GPU memory usage: 1035/15079\n",
            "Epoch 113/120 ... Training loss: 0.2308 ... Test loss: 1.0131 ... GPU memory usage: 1035/15079\n",
            "Epoch 114/120 ... Training loss: 0.2672 ... Test loss: 0.9654 ... GPU memory usage: 1035/15079\n",
            "Epoch 115/120 ... Training loss: 0.2281 ... Test loss: 0.9158 ... GPU memory usage: 1035/15079\n",
            "Epoch 116/120 ... Training loss: 0.2205 ... Test loss: 0.8371 ... GPU memory usage: 1035/15079\n",
            "Epoch 117/120 ... Training loss: 0.1901 ... Test loss: 0.8674 ... GPU memory usage: 1035/15079\n",
            "Epoch 118/120 ... Training loss: 0.196 ... Test loss: 0.9231 ... GPU memory usage: 1035/15079\n",
            "Epoch 119/120 ... Training loss: 0.1671 ... Test loss: 0.9028 ... GPU memory usage: 1035/15079\n",
            "Epoch 120/120 ... Training loss: 0.1709 ... Test loss: 0.9508 ... GPU memory usage: 1035/15079\n",
            "Performing stochastic weights averaging...\n",
            "Model (final state) evaluation loss: 0.8252\n",
            "Plotting training history\n"
          ],
          "name": "stdout"
        },
        {
          "output_type": "display_data",
          "data": {
            "image/png": "[encoded data removed]",
            "text/plain": [
              "<Figure size 432x432 with 1 Axes>"
            ]
          },
          "metadata": {
            "tags": [],
            "needs_background": "light"
          }
        }
      ]
    },
    {
      "cell_type": "markdown",
      "metadata": {
        "id": "PyGLIjMn-5j4"
      },
      "source": [
        "Make a prediction with the trained model:"
      ]
    },
    {
      "cell_type": "code",
      "metadata": {
        "colab": {
          "base_uri": "https://localhost:8080/"
        },
        "id": "mBGZBXnz3Qbw",
        "outputId": "f5b34f50-94f4-44e5-fb5a-75d3d0a78ee1"
      },
      "source": [
        "prediction = model.predict(imgs_test, norm=False)"
      ],
      "execution_count": 39,
      "outputs": [
        {
          "output_type": "stream",
          "text": [
            "Batch 10/10\n",
            "174 images were decoded in approximately 0.7281 seconds\n"
          ],
          "name": "stdout"
        }
      ]
    },
    {
      "cell_type": "markdown",
      "metadata": {
        "id": "b_yeyL-5-76U"
      },
      "source": [
        "Visualize predicted spectra for selected test images:\n",
        "\n",
        "(note that predictions get improved as if we train longer)"
      ]
    },
    {
      "cell_type": "code",
      "metadata": {
        "colab": {
          "base_uri": "https://localhost:8080/",
          "height": 283
        },
        "id": "lsrOTx-O4H6X",
        "outputId": "33436d2b-e485-40ff-933b-cc1f2eb83f14"
      },
      "source": [
        "k = 150\n",
        "\n",
        "_, (ax1, ax2) = plt.subplots(1, 2, figsize=(10, 4))\n",
        "ax1.imshow(imgs_test[k], cmap='gray', label=\"Input image\")\n",
        "ax2.plot(specval[0,:64], spectra_test[k], label=\"Ground truth\")\n",
        "ax2.plot(specval[0,:64], prediction[k], label=\"Prediction\")\n",
        "plt.legend()"
      ],
      "execution_count": 41,
      "outputs": [
        {
          "output_type": "execute_result",
          "data": {
            "text/plain": [
              "<matplotlib.legend.Legend at 0x7f0281fc5390>"
            ]
          },
          "metadata": {
            "tags": []
          },
          "execution_count": 41
        },
        {
          "output_type": "display_data",
          "data": {
            "image/png": "[encoded data removed]",
            "text/plain": [
              "<Figure size 720x288 with 2 Axes>"
            ]
          },
          "metadata": {
            "tags": [],
            "needs_background": "light"
          }
        }
      ]
    },
    {
      "cell_type": "markdown",
      "metadata": {
        "id": "8qdxW4ufWpa8"
      },
      "source": [
        "## Application to STEM EELS data"
      ]
    },
    {
      "cell_type": "markdown",
      "metadata": {
        "id": "yRubayNbWwnr"
      },
      "source": [
        "(Down)load data:"
      ]
    },
    {
      "cell_type": "code",
      "metadata": {
        "id": "w1Afe3wt8mM1",
        "colab": {
          "base_uri": "https://localhost:8080/"
        },
        "outputId": "b278588a-d6df-48ca-fe3f-86847ffd23bd"
      },
      "source": [
        "!gdown https://drive.google.com/uc?id=18erLubezBOzIinKscQfq49Al4pxwS0-w"
      ],
      "execution_count": 2,
      "outputs": [
        {
          "output_type": "stream",
          "text": [
            "Downloading...\n",
            "From: https://drive.google.com/uc?id=18erLubezBOzIinKscQfq49Al4pxwS0-w\n",
            "To: /content/eels_imspec.npz\n",
            "50.0MB [00:00, 88.6MB/s]\n"
          ],
          "name": "stdout"
        }
      ]
    },
    {
      "cell_type": "code",
      "metadata": {
        "id": "gE_KLCsRMCjz"
      },
      "source": [
        "dataset = np.load('eels_imspec.npz')\n",
        "imgs = dataset['imgs']\n",
        "spectra = dataset['spectra']\n",
        "specval = dataset['specval']"
      ],
      "execution_count": 44,
      "outputs": []
    },
    {
      "cell_type": "code",
      "metadata": {
        "colab": {
          "base_uri": "https://localhost:8080/",
          "height": 283
        },
        "id": "d22y33eAW1eP",
        "outputId": "8ec7907e-816c-473f-818e-a8129c0b5452"
      },
      "source": [
        "k = 12\n",
        "_, (ax1, ax2) = plt.subplots(1, 2, figsize=(9, 4))\n",
        "ax1.imshow(imgs[k], cmap='gray')\n",
        "ax2.plot(specval, spectra[k])"
      ],
      "execution_count": 48,
      "outputs": [
        {
          "output_type": "execute_result",
          "data": {
            "text/plain": [
              "[<matplotlib.lines.Line2D at 0x7f0281cacd30>]"
            ]
          },
          "metadata": {
            "tags": []
          },
          "execution_count": 48
        },
        {
          "output_type": "display_data",
          "data": {
            "image/png": "[encoded data removed]",
            "text/plain": [
              "<Figure size 648x288 with 2 Axes>"
            ]
          },
          "metadata": {
            "tags": [],
            "needs_background": "light"
          }
        }
      ]
    },
    {
      "cell_type": "markdown",
      "metadata": {
        "id": "M5Yxzx9iW2rR"
      },
      "source": [
        "Train-test split:"
      ]
    },
    {
      "cell_type": "code",
      "metadata": {
        "id": "6it4KwtaMKGF"
      },
      "source": [
        "imgs_train, spectra_train, imgs_test, spectra_test = aoi.utils.data_split(imgs, spectra, format_out=\"torch_float\")"
      ],
      "execution_count": 13,
      "outputs": []
    },
    {
      "cell_type": "markdown",
      "metadata": {
        "id": "3KML-hO-W4aj"
      },
      "source": [
        "Initialize and train ImSpec model (same parameters as above):"
      ]
    },
    {
      "cell_type": "code",
      "metadata": {
        "colab": {
          "base_uri": "https://localhost:8080/",
          "height": 1000
        },
        "id": "mXS9NFX5MKGF",
        "outputId": "2a2632e0-22f9-42d0-b7f1-5298cd519029"
      },
      "source": [
        "in_dim = (16, 16)\n",
        "out_dim = (2048,)\n",
        "\n",
        "model = aoi.models.ImSpec(in_dim, out_dim, latent_dim=10, seed=2)\n",
        "\n",
        "model.fit(imgs_train, spectra_train, imgs_test, spectra_test,  # training data\n",
        "          full_epoch=True, training_cycles=120, swa=True, batch_norm=True)  # training parameters"
      ],
      "execution_count": 15,
      "outputs": [
        {
          "output_type": "stream",
          "text": [
            "/usr/local/lib/python3.6/dist-packages/atomai/utils/preproc.py:89: UserWarning: Adding a channel dimension of 1 to training images\n",
            "  UserWarning)\n",
            "/usr/local/lib/python3.6/dist-packages/atomai/utils/preproc.py:94: UserWarning: Adding a channel dimension of 1 to test images\n",
            "  UserWarning)\n",
            "/usr/local/lib/python3.6/dist-packages/atomai/utils/preproc.py:99: UserWarning: Adding a channel dimension of 1 to training spectra\n",
            "  UserWarning)\n",
            "/usr/local/lib/python3.6/dist-packages/atomai/utils/preproc.py:104: UserWarning: Adding a channel dimension of 1 to test spectra\n",
            "  UserWarning)\n"
          ],
          "name": "stderr"
        },
        {
          "output_type": "stream",
          "text": [
            "Epoch 1/120 ... Training loss: 1.383 ... Test loss: 3.5227 ... GPU memory usage: 1909/15079\n",
            "Epoch 2/120 ... Training loss: 1.1435 ... Test loss: 0.9937 ... GPU memory usage: 1909/15079\n",
            "Epoch 3/120 ... Training loss: 0.9658 ... Test loss: 0.8947 ... GPU memory usage: 1909/15079\n",
            "Epoch 4/120 ... Training loss: 0.8185 ... Test loss: 0.765 ... GPU memory usage: 1909/15079\n",
            "Epoch 5/120 ... Training loss: 0.6953 ... Test loss: 0.6755 ... GPU memory usage: 1909/15079\n",
            "Epoch 6/120 ... Training loss: 0.592 ... Test loss: 0.5663 ... GPU memory usage: 1909/15079\n",
            "Epoch 7/120 ... Training loss: 0.5052 ... Test loss: 0.4972 ... GPU memory usage: 1909/15079\n",
            "Epoch 8/120 ... Training loss: 0.4321 ... Test loss: 0.4035 ... GPU memory usage: 1909/15079\n",
            "Epoch 9/120 ... Training loss: 0.3704 ... Test loss: 0.3598 ... GPU memory usage: 1909/15079\n",
            "Epoch 10/120 ... Training loss: 0.3183 ... Test loss: 0.3179 ... GPU memory usage: 1909/15079\n",
            "Epoch 11/120 ... Training loss: 0.274 ... Test loss: 0.2728 ... GPU memory usage: 1909/15079\n",
            "Epoch 12/120 ... Training loss: 0.2364 ... Test loss: 0.2442 ... GPU memory usage: 1909/15079\n",
            "Epoch 13/120 ... Training loss: 0.2045 ... Test loss: 0.2023 ... GPU memory usage: 1909/15079\n",
            "Epoch 14/120 ... Training loss: 0.1773 ... Test loss: 0.1761 ... GPU memory usage: 1909/15079\n",
            "Epoch 15/120 ... Training loss: 0.1541 ... Test loss: 0.162 ... GPU memory usage: 1909/15079\n",
            "Epoch 16/120 ... Training loss: 0.1342 ... Test loss: 0.132 ... GPU memory usage: 1909/15079\n",
            "Epoch 17/120 ... Training loss: 0.1172 ... Test loss: 0.1158 ... GPU memory usage: 1909/15079\n",
            "Epoch 18/120 ... Training loss: 0.1025 ... Test loss: 0.1023 ... GPU memory usage: 1909/15079\n",
            "Epoch 19/120 ... Training loss: 0.09 ... Test loss: 0.0905 ... GPU memory usage: 1909/15079\n",
            "Epoch 20/120 ... Training loss: 0.0792 ... Test loss: 0.0796 ... GPU memory usage: 1909/15079\n",
            "Epoch 21/120 ... Training loss: 0.0696 ... Test loss: 0.0716 ... GPU memory usage: 1909/15079\n",
            "Epoch 22/120 ... Training loss: 0.0616 ... Test loss: 0.0634 ... GPU memory usage: 1909/15079\n",
            "Epoch 23/120 ... Training loss: 0.0544 ... Test loss: 0.0573 ... GPU memory usage: 1909/15079\n",
            "Epoch 24/120 ... Training loss: 0.0483 ... Test loss: 0.0518 ... GPU memory usage: 1909/15079\n",
            "Epoch 25/120 ... Training loss: 0.0429 ... Test loss: 0.0435 ... GPU memory usage: 1909/15079\n",
            "Epoch 26/120 ... Training loss: 0.0381 ... Test loss: 0.0382 ... GPU memory usage: 1909/15079\n",
            "Epoch 27/120 ... Training loss: 0.034 ... Test loss: 0.0342 ... GPU memory usage: 1909/15079\n",
            "Epoch 28/120 ... Training loss: 0.0303 ... Test loss: 0.0309 ... GPU memory usage: 1909/15079\n",
            "Epoch 29/120 ... Training loss: 0.0272 ... Test loss: 0.0256 ... GPU memory usage: 1909/15079\n",
            "Epoch 30/120 ... Training loss: 0.0243 ... Test loss: 0.0249 ... GPU memory usage: 1909/15079\n",
            "Epoch 31/120 ... Training loss: 0.0218 ... Test loss: 0.0233 ... GPU memory usage: 1909/15079\n",
            "Epoch 32/120 ... Training loss: 0.0195 ... Test loss: 0.0202 ... GPU memory usage: 1909/15079\n",
            "Epoch 33/120 ... Training loss: 0.0176 ... Test loss: 0.0187 ... GPU memory usage: 1909/15079\n",
            "Epoch 34/120 ... Training loss: 0.0158 ... Test loss: 0.0158 ... GPU memory usage: 1909/15079\n",
            "Epoch 35/120 ... Training loss: 0.0142 ... Test loss: 0.0142 ... GPU memory usage: 1909/15079\n",
            "Epoch 36/120 ... Training loss: 0.0128 ... Test loss: 0.0134 ... GPU memory usage: 1909/15079\n",
            "Epoch 37/120 ... Training loss: 0.0115 ... Test loss: 0.0123 ... GPU memory usage: 1909/15079\n",
            "Epoch 38/120 ... Training loss: 0.0104 ... Test loss: 0.0111 ... GPU memory usage: 1909/15079\n",
            "Epoch 39/120 ... Training loss: 0.0094 ... Test loss: 0.0098 ... GPU memory usage: 1909/15079\n",
            "Epoch 40/120 ... Training loss: 0.0085 ... Test loss: 0.0086 ... GPU memory usage: 1909/15079\n",
            "Epoch 41/120 ... Training loss: 0.0076 ... Test loss: 0.008 ... GPU memory usage: 1909/15079\n",
            "Epoch 42/120 ... Training loss: 0.0069 ... Test loss: 0.0073 ... GPU memory usage: 1909/15079\n",
            "Epoch 43/120 ... Training loss: 0.0063 ... Test loss: 0.0063 ... GPU memory usage: 1909/15079\n",
            "Epoch 44/120 ... Training loss: 0.0057 ... Test loss: 0.0057 ... GPU memory usage: 1909/15079\n",
            "Epoch 45/120 ... Training loss: 0.0051 ... Test loss: 0.0054 ... GPU memory usage: 1909/15079\n",
            "Epoch 46/120 ... Training loss: 0.0046 ... Test loss: 0.0052 ... GPU memory usage: 1909/15079\n",
            "Epoch 47/120 ... Training loss: 0.0042 ... Test loss: 0.0046 ... GPU memory usage: 1909/15079\n",
            "Epoch 48/120 ... Training loss: 0.0038 ... Test loss: 0.0039 ... GPU memory usage: 1909/15079\n",
            "Epoch 49/120 ... Training loss: 0.0034 ... Test loss: 0.0034 ... GPU memory usage: 1909/15079\n",
            "Epoch 50/120 ... Training loss: 0.0031 ... Test loss: 0.0031 ... GPU memory usage: 1909/15079\n",
            "Epoch 51/120 ... Training loss: 0.0029 ... Test loss: 0.0029 ... GPU memory usage: 1909/15079\n",
            "Epoch 52/120 ... Training loss: 0.0026 ... Test loss: 0.0028 ... GPU memory usage: 1909/15079\n",
            "Epoch 53/120 ... Training loss: 0.0023 ... Test loss: 0.0026 ... GPU memory usage: 1909/15079\n",
            "Epoch 54/120 ... Training loss: 0.0021 ... Test loss: 0.0023 ... GPU memory usage: 1909/15079\n",
            "Epoch 55/120 ... Training loss: 0.0019 ... Test loss: 0.0019 ... GPU memory usage: 1909/15079\n",
            "Epoch 56/120 ... Training loss: 0.0018 ... Test loss: 0.0017 ... GPU memory usage: 1909/15079\n",
            "Epoch 57/120 ... Training loss: 0.0016 ... Test loss: 0.0016 ... GPU memory usage: 1909/15079\n",
            "Epoch 58/120 ... Training loss: 0.0015 ... Test loss: 0.0016 ... GPU memory usage: 1909/15079\n",
            "Epoch 59/120 ... Training loss: 0.0013 ... Test loss: 0.0014 ... GPU memory usage: 1909/15079\n",
            "Epoch 60/120 ... Training loss: 0.0012 ... Test loss: 0.0011 ... GPU memory usage: 1909/15079\n",
            "Epoch 61/120 ... Training loss: 0.0011 ... Test loss: 0.0012 ... GPU memory usage: 1909/15079\n",
            "Epoch 62/120 ... Training loss: 0.001 ... Test loss: 0.001 ... GPU memory usage: 1909/15079\n",
            "Epoch 63/120 ... Training loss: 0.0009 ... Test loss: 0.001 ... GPU memory usage: 1909/15079\n",
            "Epoch 64/120 ... Training loss: 0.0008 ... Test loss: 0.0008 ... GPU memory usage: 1909/15079\n",
            "Epoch 65/120 ... Training loss: 0.0008 ... Test loss: 0.0007 ... GPU memory usage: 1909/15079\n",
            "Epoch 66/120 ... Training loss: 0.0007 ... Test loss: 0.0007 ... GPU memory usage: 1909/15079\n",
            "Epoch 67/120 ... Training loss: 0.0007 ... Test loss: 0.0007 ... GPU memory usage: 1909/15079\n",
            "Epoch 68/120 ... Training loss: 0.0006 ... Test loss: 0.0007 ... GPU memory usage: 1909/15079\n",
            "Epoch 69/120 ... Training loss: 0.0006 ... Test loss: 0.0005 ... GPU memory usage: 1909/15079\n",
            "Epoch 70/120 ... Training loss: 0.0005 ... Test loss: 0.0006 ... GPU memory usage: 1909/15079\n",
            "Epoch 71/120 ... Training loss: 0.0005 ... Test loss: 0.0006 ... GPU memory usage: 1909/15079\n",
            "Epoch 72/120 ... Training loss: 0.0005 ... Test loss: 0.0005 ... GPU memory usage: 1909/15079\n",
            "Epoch 73/120 ... Training loss: 0.0004 ... Test loss: 0.0005 ... GPU memory usage: 1909/15079\n",
            "Epoch 74/120 ... Training loss: 0.0004 ... Test loss: 0.0005 ... GPU memory usage: 1909/15079\n",
            "Epoch 75/120 ... Training loss: 0.0004 ... Test loss: 0.0004 ... GPU memory usage: 1909/15079\n",
            "Epoch 76/120 ... Training loss: 0.0004 ... Test loss: 0.0004 ... GPU memory usage: 1909/15079\n",
            "Epoch 77/120 ... Training loss: 0.0003 ... Test loss: 0.0004 ... GPU memory usage: 1909/15079\n",
            "Epoch 78/120 ... Training loss: 0.0003 ... Test loss: 0.0003 ... GPU memory usage: 1909/15079\n",
            "Epoch 79/120 ... Training loss: 0.0003 ... Test loss: 0.0003 ... GPU memory usage: 1909/15079\n",
            "Epoch 80/120 ... Training loss: 0.0003 ... Test loss: 0.0003 ... GPU memory usage: 1909/15079\n",
            "Epoch 81/120 ... Training loss: 0.0003 ... Test loss: 0.0003 ... GPU memory usage: 1909/15079\n",
            "Epoch 82/120 ... Training loss: 0.0003 ... Test loss: 0.0003 ... GPU memory usage: 1909/15079\n",
            "Epoch 83/120 ... Training loss: 0.0003 ... Test loss: 0.0003 ... GPU memory usage: 1909/15079\n",
            "Epoch 84/120 ... Training loss: 0.0003 ... Test loss: 0.0003 ... GPU memory usage: 1909/15079\n",
            "Epoch 85/120 ... Training loss: 0.0002 ... Test loss: 0.0003 ... GPU memory usage: 1909/15079\n",
            "Epoch 86/120 ... Training loss: 0.0003 ... Test loss: 0.0003 ... GPU memory usage: 1909/15079\n",
            "Epoch 87/120 ... Training loss: 0.0002 ... Test loss: 0.0002 ... GPU memory usage: 1909/15079\n",
            "Epoch 88/120 ... Training loss: 0.0002 ... Test loss: 0.0002 ... GPU memory usage: 1909/15079\n",
            "Epoch 89/120 ... Training loss: 0.0002 ... Test loss: 0.0002 ... GPU memory usage: 1909/15079\n",
            "Epoch 90/120 ... Training loss: 0.0002 ... Test loss: 0.0002 ... GPU memory usage: 1909/15079\n",
            "Epoch 91/120 ... Training loss: 0.0002 ... Test loss: 0.0002 ... GPU memory usage: 1909/15079\n",
            "Epoch 92/120 ... Training loss: 0.0002 ... Test loss: 0.0002 ... GPU memory usage: 1909/15079\n",
            "Epoch 93/120 ... Training loss: 0.0002 ... Test loss: 0.0002 ... GPU memory usage: 1909/15079\n",
            "Epoch 94/120 ... Training loss: 0.0002 ... Test loss: 0.0003 ... GPU memory usage: 1909/15079\n",
            "Epoch 95/120 ... Training loss: 0.0002 ... Test loss: 0.0002 ... GPU memory usage: 1909/15079\n",
            "Epoch 96/120 ... Training loss: 0.0002 ... Test loss: 0.0002 ... GPU memory usage: 1909/15079\n",
            "Epoch 97/120 ... Training loss: 0.0002 ... Test loss: 0.0002 ... GPU memory usage: 1909/15079\n",
            "Epoch 98/120 ... Training loss: 0.0002 ... Test loss: 0.0002 ... GPU memory usage: 1909/15079\n",
            "Epoch 99/120 ... Training loss: 0.0002 ... Test loss: 0.0002 ... GPU memory usage: 1909/15079\n",
            "Epoch 100/120 ... Training loss: 0.0002 ... Test loss: 0.0002 ... GPU memory usage: 1909/15079\n",
            "Epoch 101/120 ... Training loss: 0.0002 ... Test loss: 0.0002 ... GPU memory usage: 1909/15079\n",
            "Epoch 102/120 ... Training loss: 0.0002 ... Test loss: 0.0002 ... GPU memory usage: 1909/15079\n",
            "Epoch 103/120 ... Training loss: 0.0002 ... Test loss: 0.0002 ... GPU memory usage: 1909/15079\n",
            "Epoch 104/120 ... Training loss: 0.0002 ... Test loss: 0.0002 ... GPU memory usage: 1909/15079\n",
            "Epoch 105/120 ... Training loss: 0.0002 ... Test loss: 0.0002 ... GPU memory usage: 1909/15079\n",
            "Epoch 106/120 ... Training loss: 0.0002 ... Test loss: 0.0002 ... GPU memory usage: 1909/15079\n",
            "Epoch 107/120 ... Training loss: 0.0002 ... Test loss: 0.0002 ... GPU memory usage: 1909/15079\n",
            "Epoch 108/120 ... Training loss: 0.0002 ... Test loss: 0.0002 ... GPU memory usage: 1909/15079\n",
            "Epoch 109/120 ... Training loss: 0.0002 ... Test loss: 0.0002 ... GPU memory usage: 1909/15079\n",
            "Epoch 110/120 ... Training loss: 0.0002 ... Test loss: 0.0002 ... GPU memory usage: 1909/15079\n",
            "Epoch 111/120 ... Training loss: 0.0002 ... Test loss: 0.0002 ... GPU memory usage: 1909/15079\n",
            "Epoch 112/120 ... Training loss: 0.0002 ... Test loss: 0.0002 ... GPU memory usage: 1909/15079\n",
            "Epoch 113/120 ... Training loss: 0.0002 ... Test loss: 0.0002 ... GPU memory usage: 1909/15079\n",
            "Epoch 114/120 ... Training loss: 0.0002 ... Test loss: 0.0002 ... GPU memory usage: 1909/15079\n",
            "Epoch 115/120 ... Training loss: 0.0002 ... Test loss: 0.0002 ... GPU memory usage: 1909/15079\n",
            "Epoch 116/120 ... Training loss: 0.0002 ... Test loss: 0.0002 ... GPU memory usage: 1909/15079\n",
            "Epoch 117/120 ... Training loss: 0.0002 ... Test loss: 0.0002 ... GPU memory usage: 1909/15079\n",
            "Epoch 118/120 ... Training loss: 0.0002 ... Test loss: 0.0002 ... GPU memory usage: 1909/15079\n",
            "Epoch 119/120 ... Training loss: 0.0002 ... Test loss: 0.0002 ... GPU memory usage: 1909/15079\n",
            "Epoch 120/120 ... Training loss: 0.0002 ... Test loss: 0.0002 ... GPU memory usage: 1909/15079\n",
            "Performing stochastic weights averaging...\n",
            "Model (final state) evaluation loss: 0.0002\n",
            "Plotting training history\n"
          ],
          "name": "stdout"
        },
        {
          "output_type": "display_data",
          "data": {
            "image/png": "[encoded data removed]",
            "text/plain": [
              "<Figure size 432x432 with 1 Axes>"
            ]
          },
          "metadata": {
            "tags": [],
            "needs_background": "light"
          }
        }
      ]
    },
    {
      "cell_type": "markdown",
      "metadata": {
        "id": "B_m9vjqIUU7O"
      },
      "source": [
        "Make prediciton on test data:"
      ]
    },
    {
      "cell_type": "code",
      "metadata": {
        "colab": {
          "base_uri": "https://localhost:8080/"
        },
        "id": "mQIoPMKwOaYO",
        "outputId": "86eec8b4-4f9d-4f4c-e918-ad76942399b7"
      },
      "source": [
        "prediction = model.predict(imgs_test, norm=False)"
      ],
      "execution_count": 21,
      "outputs": [
        {
          "output_type": "stream",
          "text": [
            "Batch 10/10\n",
            "408 images were decoded in approximately 2.1185 seconds\n"
          ],
          "name": "stdout"
        }
      ]
    },
    {
      "cell_type": "markdown",
      "metadata": {
        "id": "fnOpYG04UXcG"
      },
      "source": [
        "Visualize for selected test image: "
      ]
    },
    {
      "cell_type": "code",
      "metadata": {
        "colab": {
          "base_uri": "https://localhost:8080/",
          "height": 283
        },
        "id": "ZduPGiZsUM64",
        "outputId": "0b3f9ca0-e8a1-4888-f072-d6e3fdab0c4e"
      },
      "source": [
        "k = 100\n",
        "\n",
        "_, (ax1, ax2) = plt.subplots(1, 2, figsize=(10, 4))\n",
        "ax1.imshow(imgs_test[k], cmap='gray', label=\"Input image\")\n",
        "ax2.plot(specval, spectra_test[k], label=\"Ground truth\")\n",
        "ax2.plot(specval, prediction[k], label=\"Prediction\")\n",
        "plt.legend()"
      ],
      "execution_count": 30,
      "outputs": [
        {
          "output_type": "execute_result",
          "data": {
            "text/plain": [
              "<matplotlib.legend.Legend at 0x7f028c41c7f0>"
            ]
          },
          "metadata": {
            "tags": []
          },
          "execution_count": 30
        },
        {
          "output_type": "display_data",
          "data": {
            "image/png": "[encoded data removed]",
            "text/plain": [
              "<Figure size 720x288 with 2 Axes>"
            ]
          },
          "metadata": {
            "tags": [],
            "needs_background": "light"
          }
        }
      ]
    },
    {
      "cell_type": "code",
      "metadata": {
        "id": "osx--biaVQO5"
      },
      "source": [
        ""
      ],
      "execution_count": null,
      "outputs": []
    }
  ]
}