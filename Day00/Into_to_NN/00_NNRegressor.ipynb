{
  "nbformat": 4,
  "nbformat_minor": 0,
  "metadata": {
    "colab": {
      "name": "00_NNRegressor.ipynb",
      "provenance": [],
      "collapsed_sections": []
    },
    "kernelspec": {
      "name": "python3",
      "display_name": "Python 3"
    }
  },
  "cells": [
    {
      "cell_type": "markdown",
      "metadata": {
        "id": "h6zVN0hOaWbB"
      },
      "source": [
        "## Regression with a neural network in PyTorch"
      ]
    },
    {
      "cell_type": "markdown",
      "metadata": {
        "id": "Z8OhuIHdaMU-"
      },
      "source": [
        "Author: Maxim Ziatdinov\n",
        "\n",
        "Email: ziatdinovmax@gmail.com"
      ]
    },
    {
      "cell_type": "markdown",
      "metadata": {
        "id": "OVkkU3tCU3TM"
      },
      "source": [
        "\n",
        "---\n",
        "\n",
        "Neural networks are [universal function approximators](https://en.wikipedia.org/wiki/Universal_approximation_theorem). Here, as a simple illustration, we will generate data points using $e^{0.2x} \\times sin(x)$ function, corrupt the produced data by random noise and then will \"fit\" the target distribution with a neural network. Our regressor will be implemented using [PyTorch](https://pytorch.org/) deep/machine learning framework.\n",
        "\n",
        "---"
      ]
    },
    {
      "cell_type": "markdown",
      "metadata": {
        "id": "lLGvXGo2S-q1"
      },
      "source": [
        "Imports:"
      ]
    },
    {
      "cell_type": "code",
      "metadata": {
        "id": "17n6sGAnRuOu"
      },
      "source": [
        "import torch\n",
        "import matplotlib.pyplot as plt"
      ],
      "execution_count": null,
      "outputs": []
    },
    {
      "cell_type": "markdown",
      "metadata": {
        "id": "alOdwe8ZSszX"
      },
      "source": [
        "Define a helper function that set seeds for generating random numbers (for reproducibility):"
      ]
    },
    {
      "cell_type": "code",
      "metadata": {
        "id": "gZtKXst9SOGu"
      },
      "source": [
        "def rng_seed(seed):\n",
        "    torch.manual_seed(seed)\n",
        "    if torch.cuda.is_available(): # for GPU\n",
        "        torch.cuda.manual_seed(seed)\n",
        "        torch.backends.cudnn.deterministic = True\n",
        "        torch.backends.cudnn.benchmark = False"
      ],
      "execution_count": null,
      "outputs": []
    },
    {
      "cell_type": "markdown",
      "metadata": {
        "id": "w_PUglhsTBVC"
      },
      "source": [
        "Generate regression set:"
      ]
    },
    {
      "cell_type": "code",
      "metadata": {
        "id": "35Rm6QWvTNY7"
      },
      "source": [
        "rng_seed(1)\n",
        "x = torch.unsqueeze(torch.arange(-10, 10, 0.01), dim=1)\n",
        "y = torch.sin(x)*torch.exp(.2*x) + 0.2*torch.randn(x.size())"
      ],
      "execution_count": null,
      "outputs": []
    },
    {
      "cell_type": "markdown",
      "metadata": {
        "id": "XqLGlzgFTbtf"
      },
      "source": [
        "Plot generated set:"
      ]
    },
    {
      "cell_type": "code",
      "metadata": {
        "id": "HzFr5bs1TYqT",
        "colab": {
          "base_uri": "https://localhost:8080/",
          "height": 356
        },
        "outputId": "ab3496b1-03e8-460b-bd10-53e20a8a28c6"
      },
      "source": [
        "_, ax = plt.subplots(1, 1, figsize=(8, 5))\n",
        "ax.scatter(x, y, s=3)\n",
        "ax.set_xlabel('x', fontsize=14, style='italic')\n",
        "ax.set_ylabel('y', fontsize=14, style='italic')"
      ],
      "execution_count": null,
      "outputs": [
        {
          "output_type": "execute_result",
          "data": {
            "text/plain": [
              "Text(0, 0.5, 'y')"
            ]
          },
          "metadata": {
            "tags": []
          },
          "execution_count": 4
        },
        {
          "output_type": "display_data",
          "data": {
            "image/png": "[encoded data removed]",
            "text/plain": [
              "<Figure size 576x360 with 1 Axes>"
            ]
          },
          "metadata": {
            "tags": [],
            "needs_background": "light"
          }
        }
      ]
    },
    {
      "cell_type": "markdown",
      "metadata": {
        "id": "lKY_X04Wcfxx"
      },
      "source": [
        "We are now going to constuct a simple neural network to fit the data distribution. Our neural network has just two [fully-connected layers](https://en.wikipedia.org/wiki/Multilayer_perceptron), each with 100 neurons, activated by [leaky rectified linear unit function](https://towardsdatascience.com/activation-functions-and-its-types-which-is-better-a9a5310cc8f). We will use Pytorch sequential container to build this simple model (later we will show how to construct a model in the object-oriented way):"
      ]
    },
    {
      "cell_type": "markdown",
      "metadata": {
        "id": "pfHTdbTK_2QZ"
      },
      "source": [
        "Build a model:"
      ]
    },
    {
      "cell_type": "code",
      "metadata": {
        "id": "Td1tsIA8BXP6"
      },
      "source": [
        "rng_seed(1)\n",
        "\n",
        "model = torch.nn.Sequential(\n",
        "        torch.nn.Linear(in_features=1, out_features=100),\n",
        "        torch.nn.LeakyReLU(),\n",
        "        torch.nn.Linear(in_features=100, out_features=100),\n",
        "        torch.nn.LeakyReLU(),\n",
        "        torch.nn.Linear(in_features=100, out_features=1),\n",
        "    )"
      ],
      "execution_count": null,
      "outputs": []
    },
    {
      "cell_type": "markdown",
      "metadata": {
        "id": "Vr3tyn6Z_4hQ"
      },
      "source": [
        "Move our model together with the training data to a GPU device if it is available:"
      ]
    },
    {
      "cell_type": "code",
      "metadata": {
        "id": "KGl8g4wf_6zy"
      },
      "source": [
        "if torch.cuda.is_available():\n",
        "    model.cuda()\n",
        "    x = x.cuda()\n",
        "    y = y.cuda()"
      ],
      "execution_count": null,
      "outputs": []
    },
    {
      "cell_type": "markdown",
      "metadata": {
        "id": "iM6MQFFJ__po"
      },
      "source": [
        "Specify parameters for model training, namely weights optimizer and loss function (criterion):"
      ]
    },
    {
      "cell_type": "code",
      "metadata": {
        "id": "7P9RHym_ABAQ"
      },
      "source": [
        "optimizer = torch.optim.Adam(model.parameters(), lr=5e-4) # Adam optimizer\n",
        "criterion = torch.nn.MSELoss() # mean-squared loss"
      ],
      "execution_count": null,
      "outputs": []
    },
    {
      "cell_type": "markdown",
      "metadata": {
        "id": "wSEM2ih3AZxp"
      },
      "source": [
        "Finally, we train our simple model:\n",
        "\n",
        "(this should take  ~1 minute)"
      ]
    },
    {
      "cell_type": "code",
      "metadata": {
        "id": "nMbfh96I-wnP",
        "colab": {
          "base_uri": "https://localhost:8080/"
        },
        "outputId": "e6ee621a-7d76-4bb8-a6a0-ace78c005486"
      },
      "source": [
        "EPOCHS = 2500 # number of training \"cycles\"\n",
        "\n",
        "losses = []\n",
        "for e in range(EPOCHS):\n",
        "    # clear gradients\n",
        "    optimizer.zero_grad()\n",
        "    # propagate variable x through a network and get model's prediction\n",
        "    y_predicted = model(x)\n",
        "    # compare predicted value with true value and calculate mean squared error\n",
        "    loss = criterion(y_predicted, y)\n",
        "    # do backpropagation to compute gradients\n",
        "    loss.backward()\n",
        "    # optimize weights\n",
        "    optimizer.step() \n",
        "    # save loss\n",
        "    losses.append(loss.item())\n",
        "    # print statistics\n",
        "    if e % 100 == 0:\n",
        "        print('Epoch: {}  Loss: {}'.format(e, loss.item()))"
      ],
      "execution_count": null,
      "outputs": [
        {
          "output_type": "stream",
          "text": [
            "Epoch: 0  Loss: 2.636892557144165\n",
            "Epoch: 100  Loss: 2.1114213466644287\n",
            "Epoch: 200  Loss: 1.6977670192718506\n",
            "Epoch: 300  Loss: 1.5155960321426392\n",
            "Epoch: 400  Loss: 1.2567291259765625\n",
            "Epoch: 500  Loss: 0.921739935874939\n",
            "Epoch: 600  Loss: 0.6099302768707275\n",
            "Epoch: 700  Loss: 0.38576531410217285\n",
            "Epoch: 800  Loss: 0.24791023135185242\n",
            "Epoch: 900  Loss: 0.17252975702285767\n",
            "Epoch: 1000  Loss: 0.1259649097919464\n",
            "Epoch: 1100  Loss: 0.10213331133127213\n",
            "Epoch: 1200  Loss: 0.08381180465221405\n",
            "Epoch: 1300  Loss: 0.07027968019247055\n",
            "Epoch: 1400  Loss: 0.06262333691120148\n",
            "Epoch: 1500  Loss: 0.05799082666635513\n",
            "Epoch: 1600  Loss: 0.06172174960374832\n",
            "Epoch: 1700  Loss: 0.05166921764612198\n",
            "Epoch: 1800  Loss: 0.049560822546482086\n",
            "Epoch: 1900  Loss: 0.04787140339612961\n",
            "Epoch: 2000  Loss: 0.04747253283858299\n",
            "Epoch: 2100  Loss: 0.05392192304134369\n",
            "Epoch: 2200  Loss: 0.04536177217960358\n",
            "Epoch: 2300  Loss: 0.0446784570813179\n",
            "Epoch: 2400  Loss: 0.04404696449637413\n"
          ],
          "name": "stdout"
        }
      ]
    },
    {
      "cell_type": "markdown",
      "metadata": {
        "id": "JkXAcwHFXF0w"
      },
      "source": [
        "Notice that to re-run the model training, you will need to re-initialize your model first ([in this cell](#scrollTo=Td1tsIA8BXP6)).\n",
        "\n"
      ]
    },
    {
      "cell_type": "markdown",
      "metadata": {
        "id": "OhNgQrp_X2hi"
      },
      "source": [
        "Plot the training loss history:"
      ]
    },
    {
      "cell_type": "code",
      "metadata": {
        "id": "Dq_OTDbvWthB",
        "colab": {
          "base_uri": "https://localhost:8080/",
          "height": 297
        },
        "outputId": "0b8f1ed9-0bed-44d1-e4b1-04d1653d7eae"
      },
      "source": [
        "plt.plot(losses, c='black', linewidth=2)\n",
        "plt.xlabel('Epochs')\n",
        "plt.ylabel('Training loss')"
      ],
      "execution_count": null,
      "outputs": [
        {
          "output_type": "execute_result",
          "data": {
            "text/plain": [
              "Text(0, 0.5, 'Training loss')"
            ]
          },
          "metadata": {
            "tags": []
          },
          "execution_count": 9
        },
        {
          "output_type": "display_data",
          "data": {
            "image/png": "[encoded data removed]",
            "text/plain": [
              "<Figure size 432x288 with 1 Axes>"
            ]
          },
          "metadata": {
            "tags": [],
            "needs_background": "light"
          }
        }
      ]
    },
    {
      "cell_type": "markdown",
      "metadata": {
        "id": "rPuJmpUmbwyH"
      },
      "source": [
        "Transfer data back to CPU (if we used GPU) and convert it to numpy for plotting:"
      ]
    },
    {
      "cell_type": "code",
      "metadata": {
        "id": "NVgaQC31Clh2"
      },
      "source": [
        "x_to_plot = x.cpu().numpy()\n",
        "y_to_plot = y.cpu().numpy()\n",
        "y_predicted_to_plot = y_predicted.cpu().data.numpy()"
      ],
      "execution_count": null,
      "outputs": []
    },
    {
      "cell_type": "markdown",
      "metadata": {
        "id": "bg_5ZfnFbzwY"
      },
      "source": [
        "Plot results:"
      ]
    },
    {
      "cell_type": "code",
      "metadata": {
        "id": "xGKGE90c8lr2",
        "colab": {
          "base_uri": "https://localhost:8080/",
          "height": 356
        },
        "outputId": "cb6ddd89-092e-4944-daac-ab8f78a18362"
      },
      "source": [
        "_, ax = plt.subplots(1, 1, figsize=(8, 5))\n",
        "ax.scatter(x_to_plot, y_to_plot, s=2, label='data')\n",
        "ax.plot(x_to_plot, y_predicted_to_plot, c='orange', \n",
        "        linewidth=2.5, label='model prediction')\n",
        "ax.set_xlabel('x', fontsize=14, style='italic')\n",
        "ax.set_ylabel('y', fontsize=14, style='italic')\n",
        "ax.legend(loc='best', fontsize=8)"
      ],
      "execution_count": null,
      "outputs": [
        {
          "output_type": "execute_result",
          "data": {
            "text/plain": [
              "<matplotlib.legend.Legend at 0x7f33c348b710>"
            ]
          },
          "metadata": {
            "tags": []
          },
          "execution_count": 11
        },
        {
          "output_type": "display_data",
          "data": {
            "image/png": "[encoded data removed]",
            "text/plain": [
              "<Figure size 576x360 with 1 Axes>"
            ]
          },
          "metadata": {
            "tags": [],
            "needs_background": "light"
          }
        }
      ]
    },
    {
      "cell_type": "markdown",
      "metadata": {
        "id": "MNhlBBw0bi9w"
      },
      "source": [
        "Now let's define the same model in the object-oriented way. While simple networks can be written using the sequential container (as in the example above), more complex networks are typically defined in the object-oriented way. To  do this, first we need to specify model parameters (using ```__init__```) and then outline how they are applied to the inputs (using ```forward```)."
      ]
    },
    {
      "cell_type": "code",
      "metadata": {
        "id": "mLAGrutiWESB"
      },
      "source": [
        "class NNRegressor(torch.nn.Module):\n",
        "    \"\"\"2-layer neural network for regression\"\"\"\n",
        "    def __init__(self, nb_neurons):\n",
        "        \"\"\"Initialization of model parameters\"\"\"\n",
        "        super(NNRegressor, self).__init__()\n",
        "        self.layer1 = torch.nn.Linear(1, nb_neurons)\n",
        "        self.layer2 = torch.nn.Linear(nb_neurons, nb_neurons)\n",
        "        self.output_layer = torch.nn.Linear(nb_neurons, 1)\n",
        "        self.lrelu = torch.nn.functional.leaky_relu\n",
        "\n",
        "    def forward(self, x):\n",
        "        \"\"\"Forward path\"\"\"\n",
        "        l1 = self.lrelu(self.layer1(x))\n",
        "        l2 = self.lrelu(self.layer2(l1))\n",
        "        return self.output_layer(l2)"
      ],
      "execution_count": null,
      "outputs": []
    },
    {
      "cell_type": "markdown",
      "metadata": {
        "id": "7XpoaiF_j3jU"
      },
      "source": [
        "Next we initalize our model and specify the same training parameters as before:"
      ]
    },
    {
      "cell_type": "code",
      "metadata": {
        "id": "BD8qbG79dNZ6"
      },
      "source": [
        "rng_seed(1)\n",
        "# Itialize our model\n",
        "model = NNRegressor(nb_neurons=100)\n",
        "# Move to GPU (if available)\n",
        "if torch.cuda.is_available():\n",
        "    model.cuda()\n",
        "    x = x.cuda()\n",
        "    y = y.cuda()\n",
        "# Specify weights optimizer and loss function (criterion)\n",
        "optimizer = torch.optim.Adam(model.parameters(), lr=5e-4) # Adam optimizer\n",
        "criterion = torch.nn.MSELoss() # mean-squared loss"
      ],
      "execution_count": null,
      "outputs": []
    },
    {
      "cell_type": "markdown",
      "metadata": {
        "id": "bgLOCuR1gIBZ"
      },
      "source": [
        "Train a model:"
      ]
    },
    {
      "cell_type": "code",
      "metadata": {
        "id": "_ECD11higHK-",
        "colab": {
          "base_uri": "https://localhost:8080/"
        },
        "outputId": "5fe4f55f-514c-4146-9065-b8e8c53a7522"
      },
      "source": [
        "EPOCHS = 2500 # number of training \"cycles\"\n",
        "\n",
        "losses = []\n",
        "for e in range(EPOCHS):\n",
        "    # clear gradients\n",
        "    optimizer.zero_grad()\n",
        "    # propagate variable x through a network and get model's prediction\n",
        "    y_predicted = model(x)\n",
        "    # compare predicted value with true value and calculate mean squared error\n",
        "    loss = criterion(y_predicted, y)\n",
        "    # do backpropagation to compute gradients\n",
        "    loss.backward()\n",
        "    # optimize weights\n",
        "    optimizer.step() \n",
        "    # save loss\n",
        "    losses.append(loss.item())\n",
        "    # print statistics\n",
        "    if e % 100 == 0:\n",
        "        print('Epoch: {}  Loss: {}'.format(e, loss.item()))"
      ],
      "execution_count": null,
      "outputs": [
        {
          "output_type": "stream",
          "text": [
            "Epoch: 0  Loss: 2.636892557144165\n",
            "Epoch: 100  Loss: 2.1114213466644287\n",
            "Epoch: 200  Loss: 1.6977670192718506\n",
            "Epoch: 300  Loss: 1.5155960321426392\n",
            "Epoch: 400  Loss: 1.2567291259765625\n",
            "Epoch: 500  Loss: 0.921739935874939\n",
            "Epoch: 600  Loss: 0.6099302768707275\n",
            "Epoch: 700  Loss: 0.38576531410217285\n",
            "Epoch: 800  Loss: 0.24791023135185242\n",
            "Epoch: 900  Loss: 0.17252975702285767\n",
            "Epoch: 1000  Loss: 0.1259649097919464\n",
            "Epoch: 1100  Loss: 0.10213331133127213\n",
            "Epoch: 1200  Loss: 0.08381180465221405\n",
            "Epoch: 1300  Loss: 0.07027968019247055\n",
            "Epoch: 1400  Loss: 0.06262333691120148\n",
            "Epoch: 1500  Loss: 0.05799082666635513\n",
            "Epoch: 1600  Loss: 0.06172174960374832\n",
            "Epoch: 1700  Loss: 0.05166921764612198\n",
            "Epoch: 1800  Loss: 0.049560822546482086\n",
            "Epoch: 1900  Loss: 0.04787140339612961\n",
            "Epoch: 2000  Loss: 0.04747253283858299\n",
            "Epoch: 2100  Loss: 0.05392192304134369\n",
            "Epoch: 2200  Loss: 0.04536177217960358\n",
            "Epoch: 2300  Loss: 0.0446784570813179\n",
            "Epoch: 2400  Loss: 0.04404696449637413\n"
          ],
          "name": "stdout"
        }
      ]
    },
    {
      "cell_type": "markdown",
      "metadata": {
        "id": "RLz6J3ThgHLL"
      },
      "source": [
        "To re-train your model, you will need to re-initialize it ([in this cell](#scrollTo=BD8qbG79dNZ6))."
      ]
    },
    {
      "cell_type": "markdown",
      "metadata": {
        "id": "DLhkKliagHLN"
      },
      "source": [
        "Plot the training loss history:"
      ]
    },
    {
      "cell_type": "code",
      "metadata": {
        "id": "xWeECFnwgHLS",
        "colab": {
          "base_uri": "https://localhost:8080/",
          "height": 297
        },
        "outputId": "9261f37e-8b6a-4411-e911-b98b7bf9a1b6"
      },
      "source": [
        "plt.plot(losses, c='black', linewidth=2)\n",
        "plt.xlabel('Epochs')\n",
        "plt.ylabel('Training loss')"
      ],
      "execution_count": null,
      "outputs": [
        {
          "output_type": "execute_result",
          "data": {
            "text/plain": [
              "Text(0, 0.5, 'Training loss')"
            ]
          },
          "metadata": {
            "tags": []
          },
          "execution_count": 15
        },
        {
          "output_type": "display_data",
          "data": {
            "image/png": "[encoded data removed]",
            "text/plain": [
              "<Figure size 432x288 with 1 Axes>"
            ]
          },
          "metadata": {
            "tags": [],
            "needs_background": "light"
          }
        }
      ]
    },
    {
      "cell_type": "markdown",
      "metadata": {
        "id": "w_rDQjBggHLg"
      },
      "source": [
        "Transfer data back to CPU (if we used GPU for training) and convert it to numpy array for plotting:"
      ]
    },
    {
      "cell_type": "code",
      "metadata": {
        "id": "ydueJEnbgHLm"
      },
      "source": [
        "x_to_plot = x.cpu().numpy()\n",
        "y_to_plot = y.cpu().numpy()\n",
        "y_predicted_to_plot = y_predicted.cpu().data.numpy()"
      ],
      "execution_count": null,
      "outputs": []
    },
    {
      "cell_type": "markdown",
      "metadata": {
        "id": "0d7I56SxgHLz"
      },
      "source": [
        "Plot results:"
      ]
    },
    {
      "cell_type": "code",
      "metadata": {
        "id": "bryTAARggHL1",
        "colab": {
          "base_uri": "https://localhost:8080/",
          "height": 356
        },
        "outputId": "e8f8232d-669f-4a69-ef0f-8dadfcbd99a6"
      },
      "source": [
        "_, ax = plt.subplots(1, 1, figsize=(8, 5))\n",
        "ax.scatter(x_to_plot, y_to_plot, s=2, label='data')\n",
        "ax.plot(x_to_plot, y_predicted_to_plot, c='orange', \n",
        "        linewidth=2.5, label='model prediction')\n",
        "ax.set_xlabel('x', fontsize=14, style='italic')\n",
        "ax.set_ylabel('y', fontsize=14, style='italic')\n",
        "ax.legend(loc='best', fontsize=8)"
      ],
      "execution_count": null,
      "outputs": [
        {
          "output_type": "execute_result",
          "data": {
            "text/plain": [
              "<matplotlib.legend.Legend at 0x7f33c33f0eb8>"
            ]
          },
          "metadata": {
            "tags": []
          },
          "execution_count": 17
        },
        {
          "output_type": "display_data",
          "data": {
            "image/png": "[encoded data removed]",
            "text/plain": [
              "<Figure size 576x360 with 1 Axes>"
            ]
          },
          "metadata": {
            "tags": [],
            "needs_background": "light"
          }
        }
      ]
    },
    {
      "cell_type": "markdown",
      "metadata": {
        "id": "VU9SJ45rf7Ys"
      },
      "source": [
        "Now let's see how good is our model at making predictions for new data points."
      ]
    },
    {
      "cell_type": "code",
      "metadata": {
        "id": "QJMgFc4R1JUG",
        "colab": {
          "base_uri": "https://localhost:8080/"
        },
        "outputId": "681c3095-f312-4331-87b9-ac85d5cbeb20"
      },
      "source": [
        "new_data_point = 2.575\n",
        "print(\"Is this a new data point?\", new_data_point not in x)\n",
        "new_var = torch.Tensor([[new_data_point]])\n",
        "print(\"Trained model predicton:\", model(new_var).item())\n",
        "print(\"True value:\", (torch.sin(new_var)*torch.exp(.2*new_var)).item())"
      ],
      "execution_count": null,
      "outputs": [
        {
          "output_type": "stream",
          "text": [
            "Is this a new data point? True\n",
            "Trained model predicton: 0.8753470182418823\n",
            "True value: 0.8983426094055176\n"
          ],
          "name": "stdout"
        }
      ]
    },
    {
      "cell_type": "code",
      "metadata": {
        "id": "tAWpAv2z1lKy"
      },
      "source": [
        ""
      ],
      "execution_count": null,
      "outputs": []
    }
  ]
}