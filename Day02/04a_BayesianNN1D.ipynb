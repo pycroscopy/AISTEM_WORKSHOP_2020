{
  "nbformat": 4,
  "nbformat_minor": 0,
  "metadata": {
    "colab": {
      "name": "04a_BayesianNN1D.ipynb",
      "provenance": [],
      "collapsed_sections": [],
      "authorship_tag": "ABX9TyMWFMgW7vC+eYsQ0RuRWNSS",
      "include_colab_link": true
    },
    "kernelspec": {
      "name": "python3",
      "display_name": "Python 3"
    }
  },
  "cells": [
    {
      "cell_type": "markdown",
      "metadata": {
        "id": "view-in-github",
        "colab_type": "text"
      },
      "source": [
        "<a href=\"https://colab.research.google.com/github/ziatdinovmax/AISTEM_WORKSHOP_2020/blob/main/Day02/04a_BayesianNN1D.ipynb\" target=\"_parent\"><img src=\"https://colab.research.google.com/assets/colab-badge.svg\" alt=\"Open In Colab\"/></a>"
      ]
    },
    {
      "cell_type": "markdown",
      "metadata": {
        "id": "h6zVN0hOaWbB"
      },
      "source": [
        "## Bayesian Neural Network for 1D Regression"
      ]
    },
    {
      "cell_type": "markdown",
      "metadata": {
        "id": "Z8OhuIHdaMU-"
      },
      "source": [
        "Author: Maxim Ziatdinov\n",
        "\n",
        "Email: ziatdinovmax@gmail.com"
      ]
    },
    {
      "cell_type": "markdown",
      "metadata": {
        "id": "_V9RYkhN5qYl"
      },
      "source": [
        "\r\n",
        "---\r\n",
        "In the Bayesian neural network (BNN), the neural network parameters $W$ (weights and biases) are represented by a prior probability distribution $p(W)$ instead of a single value (point estimate). Performing inference on the BNN calculates the posterior distribution $P(W|D)$ over the network parameters given the observations $D = {(x_1, y_1), . . .(x_N , y_N )}$. The major advantages of BNN over a standard neural network are that it allows modeling uncertainty of the training procedure and that it has a built-in weights regularization, that can be controlled by choosing different priors over the weights, preventing overfitting.\r\n",
        "\r\n",
        "<img src=\"https://drive.google.com/uc?export=view&id=18jDerymT6GFSRgwSImI7KkLFM0I4RSF6\" width=800 px><br><br>\r\n",
        "\r\n",
        "\r\n",
        "The learning of BNN parameters is done using an iterative version of No-U-Turn sampler (NUTS) for Markov chain Monte Carlo (MCMC) inference as implemented in JAX-based NumPyro probabilistic programming library. The BNN prediction is made via the posterior predictive distribution, $p(y|x,D)=p(y|x,W)p(W|D)dW$, and have the dimension of (*MCMC samples*, *number of test points*), which can be interpreted as predictions from a (weighted) ensemble of classical neural networks, each with its own point estimates of weights and biases. For the visualization of the BNN predictions and the estimated uncertainty in the predictions, we calculate the mean and the variance (spread of distribution) values along the ‘samples’ axis, respectively.\r\n",
        "\r\n",
        "\r\n",
        "---\r\n",
        "\r\n",
        "\r\n",
        "\r\n"
      ]
    },
    {
      "cell_type": "markdown",
      "metadata": {
        "id": "ZmAho5XZ6W2d"
      },
      "source": [
        "Install NumPyro, which is a probabilistic programming library powered by JAX for autograd and JIT compilation to GPU/TPU/CPU."
      ]
    },
    {
      "cell_type": "code",
      "metadata": {
        "colab": {
          "base_uri": "https://localhost:8080/"
        },
        "id": "cAnCd4dtL6nM",
        "outputId": "5a8c4423-06f5-4c34-a633-37380ac10fa0"
      },
      "source": [
        "!pip install numpyro"
      ],
      "execution_count": null,
      "outputs": [
        {
          "output_type": "stream",
          "text": [
            "Requirement already satisfied: numpyro in /usr/local/lib/python3.6/dist-packages (0.4.1)\n",
            "Requirement already satisfied: tqdm in /usr/local/lib/python3.6/dist-packages (from numpyro) (4.41.1)\n",
            "Requirement already satisfied: jaxlib==0.1.56 in /usr/local/lib/python3.6/dist-packages (from numpyro) (0.1.56)\n",
            "Requirement already satisfied: jax==0.2.3 in /usr/local/lib/python3.6/dist-packages (from numpyro) (0.2.3)\n",
            "Requirement already satisfied: numpy>=1.12 in /usr/local/lib/python3.6/dist-packages (from jaxlib==0.1.56->numpyro) (1.18.5)\n",
            "Requirement already satisfied: absl-py in /usr/local/lib/python3.6/dist-packages (from jaxlib==0.1.56->numpyro) (0.10.0)\n",
            "Requirement already satisfied: scipy in /usr/local/lib/python3.6/dist-packages (from jaxlib==0.1.56->numpyro) (1.4.1)\n",
            "Requirement already satisfied: opt-einsum in /usr/local/lib/python3.6/dist-packages (from jax==0.2.3->numpyro) (3.3.0)\n",
            "Requirement already satisfied: six in /usr/local/lib/python3.6/dist-packages (from absl-py->jaxlib==0.1.56->numpyro) (1.15.0)\n"
          ],
          "name": "stdout"
        }
      ]
    },
    {
      "cell_type": "markdown",
      "metadata": {
        "id": "RaXm4y5g6jpW"
      },
      "source": [
        "Imports:"
      ]
    },
    {
      "cell_type": "code",
      "metadata": {
        "id": "0cxANMRgMIVu"
      },
      "source": [
        "# \"old\" numpy\r\n",
        "import numpy as onp\r\n",
        "# jax\r\n",
        "import jax\r\n",
        "import jax.numpy as np\r\n",
        "from jax import vmap\r\n",
        "import jax.random as random\r\n",
        "# numpyro\r\n",
        "import numpyro\r\n",
        "from numpyro import handlers\r\n",
        "import numpyro.distributions as dist\r\n",
        "from numpyro.infer import MCMC, NUTS\r\n",
        "# plotting\r\n",
        "import matplotlib.pyplot as plt\r\n",
        "\r\n",
        "numpyro.set_platform('cpu')"
      ],
      "execution_count": null,
      "outputs": []
    },
    {
      "cell_type": "markdown",
      "metadata": {
        "id": "w_PUglhsTBVC"
      },
      "source": [
        "Generate regression set:"
      ]
    },
    {
      "cell_type": "code",
      "metadata": {
        "id": "35Rm6QWvTNY7"
      },
      "source": [
        "X = np.arange(-10, 10, .1)[:, np.newaxis]\n",
        "y = np.sin(X) * onp.exp(.2*X) + .3*random.normal(random.PRNGKey(42), shape=X.shape)"
      ],
      "execution_count": null,
      "outputs": []
    },
    {
      "cell_type": "markdown",
      "metadata": {
        "id": "XqLGlzgFTbtf"
      },
      "source": [
        "Plot generated set:"
      ]
    },
    {
      "cell_type": "code",
      "metadata": {
        "id": "HzFr5bs1TYqT",
        "colab": {
          "base_uri": "https://localhost:8080/",
          "height": 355
        },
        "outputId": "4b538cb7-3166-4ad3-b9bf-2913c1b18a8b"
      },
      "source": [
        "_, ax = plt.subplots(1, 1, figsize=(8, 5))\n",
        "ax.scatter(X, y, marker='x', c='k')\n",
        "ax.set_xlabel('X', fontsize=14, style='italic')\n",
        "ax.set_ylabel('y', fontsize=14, style='italic')"
      ],
      "execution_count": null,
      "outputs": [
        {
          "output_type": "execute_result",
          "data": {
            "text/plain": [
              "Text(0, 0.5, 'y')"
            ]
          },
          "metadata": {
            "tags": []
          },
          "execution_count": 4
        },
        {
          "output_type": "display_data",
          "data": {
            "image/png": "[encoded data removed]",
            "text/plain": [
              "<Figure size 576x360 with 1 Axes>"
            ]
          },
          "metadata": {
            "tags": [],
            "needs_background": "light"
          }
        }
      ]
    },
    {
      "cell_type": "markdown",
      "metadata": {
        "id": "Z71FHijA6mgt"
      },
      "source": [
        "Define helper finctions for inference of NN weights and prediction on \"test\" data:"
      ]
    },
    {
      "cell_type": "code",
      "metadata": {
        "id": "CroQHP7p7PHs"
      },
      "source": [
        "def run_inference(model, args, rng_key,\n",
        "                  X, Y, output_dim,\n",
        "                  print_summary=False):\n",
        "    \"\"\"\n",
        "    Runs the No-U-Turn Sampler (NUTS) for Hamiltonian Monte Carlo\n",
        "    to infer the weights in bayesian neural network\n",
        "    \"\"\"\n",
        "    kernel = NUTS(model)\n",
        "    mcmc = MCMC(kernel, \n",
        "                args['num_warmup'], \n",
        "                args['num_samples'], \n",
        "                num_chains=args['num_chains'],\n",
        "                chain_method='sequential')\n",
        "    mcmc.run(rng_key, X, Y, args['num_hidden'], output_dim)\n",
        "    if print_summary:\n",
        "        mcmc.print_summary() \n",
        "    return mcmc.get_samples()\n",
        "\n",
        "\n",
        "def predict(model, rng_key, samples,\n",
        "            X, hidden_dim, output_dim,\n",
        "            return_y=False):\n",
        "\n",
        "    model = handlers.substitute(handlers.seed(model, rng_key), samples)\n",
        "    model_trace = handlers.trace(model).get_trace(X=X, y=None,\n",
        "                                                  hidden_dim=hidden_dim,\n",
        "                                                  output_dim=output_dim)\n",
        "    if return_y:\n",
        "        return model_trace['y']['value']\n",
        "    model_trace_ = {}\n",
        "    for k, val in model_trace.items():\n",
        "        model_trace_[k] = val['value']\n",
        "    return model_trace_"
      ],
      "execution_count": null,
      "outputs": []
    },
    {
      "cell_type": "markdown",
      "metadata": {
        "id": "UUP9ZzC66tjz"
      },
      "source": [
        "Helper functions for building a simple Bayesian neural network:"
      ]
    },
    {
      "cell_type": "code",
      "metadata": {
        "id": "5px_tKH8B22Q"
      },
      "source": [
        "def sample_weights(name, in_channels, out_channels):\n",
        "    \"\"\"Sampling weights tensor\"\"\"\n",
        "    return numpyro.sample(name=name, fn=dist.Normal(\n",
        "                loc=np.zeros((in_channels, out_channels)), \n",
        "                scale=np.ones((in_channels, out_channels))))\n",
        "    \n",
        "def sample_biases(name, channels):\n",
        "    \"\"\"Sampling bias vector\"\"\"\n",
        "    return numpyro.sample(name=name, fn=dist.Normal(\n",
        "                loc=np.zeros((channels)), scale=np.ones((channels))))\n",
        "    \n",
        "def bnn_layer(z, in_channels, out_channels, \n",
        "              w_name, b_name, nonlinearity=True, bias=True):\n",
        "    \"\"\"Creates a single BNN layer with non-linear activation\"\"\"\n",
        "    z = np.matmul(z, sample_weights(w_name, in_channels, out_channels),\n",
        "                  precision=jax.lax.Precision.HIGH)\n",
        "    if bias:\n",
        "        z = z + sample_biases(b_name, out_channels)\n",
        "    if not nonlinearity:\n",
        "         return z\n",
        "    return np.tanh(z)\n",
        "\n",
        "def model(X, y, hidden_dim, output_dim):\n",
        "    \"\"\"\n",
        "    Bayesian neural network with three layers: \n",
        "\n",
        "    Args:\n",
        "        X: numpy array\n",
        "            training samples\n",
        "        y: numpy array\n",
        "            targets (labels)\n",
        "        hidden_dim: int\n",
        "            number of neurons\n",
        "        output_dim: int\n",
        "            output dimensions\n",
        "    \"\"\"\n",
        "    # Input dimensions\n",
        "    input_dim = X.shape[-1]\n",
        "    # Observation noise\n",
        "    _obs = numpyro.sample(\"_obs\", dist.Gamma(3., 1.))\n",
        "    sigma_obs = 1 / np.sqrt(_obs)\n",
        "    # Neural network\n",
        "    z1 = bnn_layer(X, input_dim, hidden_dim, 'w1', 'b1', nonlinearity=True)\n",
        "    z2 = bnn_layer(z1, hidden_dim, hidden_dim, 'w2', 'b2', nonlinearity=True)\n",
        "    z3 = bnn_layer(z2, hidden_dim, output_dim, 'w3', 'b3', nonlinearity=False)\n",
        "    # \"Observe\" data\n",
        "    numpyro.sample(\"y\", dist.Normal(z3, sigma_obs), obs=y)"
      ],
      "execution_count": null,
      "outputs": []
    },
    {
      "cell_type": "markdown",
      "metadata": {
        "id": "frTiOYZjEg-S"
      },
      "source": [
        "Run inference:"
      ]
    },
    {
      "cell_type": "code",
      "metadata": {
        "id": "7XfssHORCMlw",
        "colab": {
          "base_uri": "https://localhost:8080/"
        },
        "outputId": "9566cd6e-a642-4ca4-aeeb-fb71445c3f81"
      },
      "source": [
        "args = {\n",
        "    \"num_chains\": 1, # Number of chains for MCMC (runs sequentially)\n",
        "    \"num_hidden\": 20, # Number of \"neurons\" in each layer of BNN\n",
        "    \"num_samples\": 200, # Number of MCMC samples\n",
        "    \"num_warmup\": 300 # number of warmup steps\n",
        "}\n",
        "# Infer model parameters\n",
        "out_d = y.shape[-1]\n",
        "rng_key, rng_key_predict = random.split(random.PRNGKey(0))\n",
        "samples = run_inference(model, args, rng_key, X, y, out_d)"
      ],
      "execution_count": null,
      "outputs": [
        {
          "output_type": "stream",
          "text": [
            "sample: 100%|██████████| 500/500 [00:44<00:00, 11.24it/s, 1023 steps of size 1.58e-03. acc. prob=0.90]\n"
          ],
          "name": "stderr"
        }
      ]
    },
    {
      "cell_type": "markdown",
      "metadata": {
        "id": "-mNCtp_rQb0q"
      },
      "source": [
        "Use the learned weights to make a prediction on \"test data\":"
      ]
    },
    {
      "cell_type": "code",
      "metadata": {
        "colab": {
          "base_uri": "https://localhost:8080/",
          "height": 337
        },
        "id": "qDH0UH7dV0Np",
        "outputId": "24922e4d-0420-4840-a245-2c472c454a76"
      },
      "source": [
        "X_test = np.linspace(-15, 15, 500)[:, np.newaxis]\r\n",
        "\r\n",
        "# get predictions\r\n",
        "predict_fn = vmap(\r\n",
        "    lambda samples, rng_key: predict(\r\n",
        "        model, rng_key, samples, X_test, \r\n",
        "        args['num_hidden'], out_d)\r\n",
        ")\r\n",
        "predictions_dict = predict_fn(\r\n",
        "    samples, random.split(\r\n",
        "        rng_key_predict, args['num_samples'] * args['num_chains'])\r\n",
        ")\r\n",
        "predictions = predictions_dict['y']\r\n",
        "PI = np.percentile(predictions, q=(5.5, 94.5), axis=0)\r\n",
        "\r\n",
        "# plot results\r\n",
        "fig, ax = plt.subplots(1, 1, figsize=(8, 5))\r\n",
        "ax.plot(X[:, 0], y[:, 0], 'x', c='k', label='observations', zorder=0)\r\n",
        "ax.plot(X_test[:, 0], np.mean(predictions[..., 0], axis=0),\r\n",
        "            c='red', label='BNN prediction', zorder=1)\r\n",
        "ax.fill_between(X_test[:, 0], PI[0][:,0], PI[1][:,0],\r\n",
        "                color=\"red\", alpha=0.2, label=\"Uncertainty\")\r\n",
        "ax.legend()"
      ],
      "execution_count": null,
      "outputs": [
        {
          "output_type": "execute_result",
          "data": {
            "text/plain": [
              "<matplotlib.legend.Legend at 0x7f371c3abd68>"
            ]
          },
          "metadata": {
            "tags": []
          },
          "execution_count": 9
        },
        {
          "output_type": "display_data",
          "data": {
            "image/png": "[encoded data removed]",
            "text/plain": [
              "<Figure size 576x360 with 1 Axes>"
            ]
          },
          "metadata": {
            "tags": [],
            "needs_background": "light"
          }
        }
      ]
    },
    {
      "cell_type": "code",
      "metadata": {
        "id": "e1ss767_Xqo4"
      },
      "source": [
        ""
      ],
      "execution_count": null,
      "outputs": []
    }
  ]
}